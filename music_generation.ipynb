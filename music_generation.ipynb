{
  "cells": [
    {
      "cell_type": "code",
      "execution_count": null,
      "metadata": {
        "id": "VSWQx3Arc-SB"
      },
      "outputs": [],
      "source": [
        "NAME = \"Ngo Nhat Hung Tran\"\n",
        "NET_ID = \"nt423\""
      ]
    },
    {
      "cell_type": "markdown",
      "metadata": {
        "id": "UAvweDElJX3v"
      },
      "source": [
        "# Setup"
      ]
    },
    {
      "cell_type": "code",
      "execution_count": null,
      "metadata": {
        "colab": {
          "base_uri": "https://localhost:8080/"
        },
        "id": "dsSBQA9O2F7L",
        "outputId": "eef17285-5cc8-4edd-f3c8-520709a0a82b"
      },
      "outputs": [
        {
          "name": "stdout",
          "output_type": "stream",
          "text": [
            "Defaulting to user installation because normal site-packages is not writeable\n",
            "Requirement already satisfied: pretty_midi in /common/home/nt423/.local/lib/python3.9/site-packages (0.2.9)\n",
            "Requirement already satisfied: numpy>=1.7.0 in /koko/system/anaconda/envs/python39/lib/python3.9/site-packages (from pretty_midi) (1.19.5)\n",
            "Requirement already satisfied: mido>=1.1.16 in /common/home/nt423/.local/lib/python3.9/site-packages (from pretty_midi) (1.2.10)\n",
            "Requirement already satisfied: six in /koko/system/anaconda/envs/python39/lib/python3.9/site-packages (from pretty_midi) (1.15.0)\n",
            "Defaulting to user installation because normal site-packages is not writeable\n",
            "Requirement already satisfied: music21 in /common/home/nt423/.local/lib/python3.9/site-packages (7.3.3)\n",
            "Requirement already satisfied: numpy in /koko/system/anaconda/envs/python39/lib/python3.9/site-packages (from music21) (1.19.5)\n",
            "Requirement already satisfied: chardet in /koko/system/anaconda/envs/python39/lib/python3.9/site-packages (from music21) (4.0.0)\n",
            "Requirement already satisfied: more-itertools in /common/home/nt423/.local/lib/python3.9/site-packages (from music21) (8.12.0)\n",
            "Requirement already satisfied: joblib in /koko/system/anaconda/envs/python39/lib/python3.9/site-packages (from music21) (1.0.1)\n",
            "Requirement already satisfied: jsonpickle in /common/home/nt423/.local/lib/python3.9/site-packages (from music21) (2.1.0)\n",
            "Requirement already satisfied: matplotlib in /koko/system/anaconda/envs/python39/lib/python3.9/site-packages (from music21) (3.4.2)\n",
            "Requirement already satisfied: webcolors>=1.5 in /common/home/nt423/.local/lib/python3.9/site-packages (from music21) (1.11.1)\n",
            "Requirement already satisfied: pyparsing>=2.2.1 in /koko/system/anaconda/envs/python39/lib/python3.9/site-packages (from matplotlib->music21) (2.4.7)\n",
            "Requirement already satisfied: cycler>=0.10 in /koko/system/anaconda/envs/python39/lib/python3.9/site-packages (from matplotlib->music21) (0.10.0)\n",
            "Requirement already satisfied: pillow>=6.2.0 in /koko/system/anaconda/envs/python39/lib/python3.9/site-packages (from matplotlib->music21) (8.2.0)\n",
            "Requirement already satisfied: kiwisolver>=1.0.1 in /koko/system/anaconda/envs/python39/lib/python3.9/site-packages (from matplotlib->music21) (1.3.1)\n",
            "Requirement already satisfied: python-dateutil>=2.7 in /koko/system/anaconda/envs/python39/lib/python3.9/site-packages (from matplotlib->music21) (2.8.1)\n",
            "Requirement already satisfied: six in /koko/system/anaconda/envs/python39/lib/python3.9/site-packages (from cycler>=0.10->matplotlib->music21) (1.15.0)\n"
          ]
        }
      ],
      "source": [
        "import zipfile\n",
        "import matplotlib.pyplot as plt\n",
        "import random\n",
        "import collections\n",
        "import numpy as np\n",
        "import zipfile\n",
        "import torch\n",
        "import os\n",
        "import torch.nn as nn\n",
        "import torch.nn.functional as F\n",
        "\n",
        "from bs4 import BeautifulSoup\n",
        "import urllib.request\n",
        "import requests\n",
        "\n",
        "!pip install pretty_midi\n",
        "!pip install music21\n",
        "import pretty_midi\n",
        "import music21\n",
        "\n",
        "import pickle\n",
        "import time\n",
        "import itertools\n",
        "\n",
        "def seed(seed):\n",
        "  torch.manual_seed(seed)\n",
        "  np.random.seed(seed)"
      ]
    },
    {
      "cell_type": "code",
      "execution_count": null,
      "metadata": {
        "colab": {
          "base_uri": "https://localhost:8080/"
        },
        "id": "2OzFXgfh2QA5",
        "outputId": "bd77032a-c99e-4e07-925b-2b294e5a0f9b"
      },
      "outputs": [
        {
          "name": "stdout",
          "output_type": "stream",
          "text": [
            "Good to go!\n"
          ]
        }
      ],
      "source": [
        "if torch.cuda.is_available():\n",
        "  print('Good to go!')\n",
        "else:\n",
        "  print('Please set GPU via Edit -> Notebook Settings.')\n",
        "device = torch.device(\"cuda\" if torch.cuda.is_available() else \"cpu\")"
      ]
    },
    {
      "cell_type": "code",
      "execution_count": null,
      "metadata": {
        "id": "6bTuLPidM54x"
      },
      "outputs": [],
      "source": [
        "def download_dataset(folder_dir):\n",
        "  url = \"http://ragtimemusic.com/midifile/\"\n",
        "  hdr = { 'User-Agent' : 'Mozilla/5.0 (Windows NT 6.1; Win64; x64)' }\n",
        "\n",
        "  req = urllib.request.Request(url, headers=hdr)\n",
        "  html_page = urllib.request.urlopen(req)\n",
        "  soup = BeautifulSoup(html_page, \"html.parser\")\n",
        "  hrefs = [link.get(\"href\") for link in soup.findAll(\"a\")]\n",
        "  names = [href for href in hrefs if \".mid\" in href]\n",
        "\n",
        "  if not os.path.exists(folder_dir):\n",
        "      os.makedirs(folder_dir)\n",
        "\n",
        "  for name in names:\n",
        "      file_name = os.path.join(folder_dir, name)\n",
        "      if not os.path.exists(file_name):\n",
        "          link = url + name\n",
        "          response = requests.get(link, headers=hdr)\n",
        "          if response.status_code == 200:\n",
        "              with open(file_name, 'wb') as f:\n",
        "                  f.write(response.content)\n",
        "          else:\n",
        "              print(\"Bad response code :\", response.status_code, link)\n",
        "\n",
        "download_dataset(\"dataset/orig\")"
      ]
    },
    {
      "cell_type": "code",
      "execution_count": null,
      "metadata": {
        "id": "UPGchAloQS0i",
        "outputId": "4c96812c-942c-470e-ddf4-c78235602bb9"
      },
      "outputs": [
        {
          "name": "stdout",
          "output_type": "stream",
          "text": [
            "274 pastime2.mid 'Unpitched' object has no attribute 'pitch'\n",
            "306 ragdance.mid 'PercussionChord' object has no attribute 'pitch'\n"
          ]
        }
      ],
      "source": [
        "def transpose_dataset(orig_folder, trps_folder):\n",
        "  orig_names = os.listdir(orig_folder)\n",
        "  orig_names.sort()\n",
        "  if not os.path.exists(trps_folder):\n",
        "    os.makedirs(trps_folder)\n",
        "  for i, orig_name in enumerate(orig_names):\n",
        "    trps_dir = os.path.join(trps_folder, orig_name)\n",
        "    if not os.path.exists(trps_dir):\n",
        "      orig_dir = os.path.join(orig_folder, orig_name)\n",
        "      score = music21.converter.parse(orig_dir)\n",
        "      try:\n",
        "        key = score.analyze('key')\n",
        "        if key.mode == \"major\":\n",
        "          half_steps = music21.interval.Interval(key.tonic, music21.pitch.Pitch('C'))\n",
        "        elif key.mode == \"minor\":\n",
        "          half_steps = music21.interval.Interval(key.tonic, music21.pitch.Pitch('A'))\n",
        "        new_score = score.transpose(half_steps)\n",
        "        new_key = new_score.analyze('key')\n",
        "        print(i, orig_name, key.tonic.name, key.mode, new_key.tonic.name, new_key.mode)\n",
        "        new_score.write('midi', trps_dir)\n",
        "      except Exception as e:\n",
        "        print(i, orig_name, str(e))\n",
        "\n",
        "transpose_dataset(\"dataset/orig\", \"dataset/trps\")"
      ]
    },
    {
      "cell_type": "code",
      "execution_count": null,
      "metadata": {
        "id": "bpe3vBHsMjmp"
      },
      "outputs": [],
      "source": [
        "def download_processor(file_name):\n",
        "  if not os.path.exists(file_name):\n",
        "    DATA_URL = 'https://raw.githubusercontent.com/jason9693/midi-neural-processor/master/processor.py'\n",
        "    r = requests.get(DATA_URL)\n",
        "\n",
        "    with open(file_name, 'w') as f:\n",
        "      f.write(r.text)\n",
        "\n",
        "download_processor('midi_neural_processor.py')"
      ]
    },
    {
      "cell_type": "code",
      "execution_count": null,
      "metadata": {
        "id": "eNZC0t18bFFO"
      },
      "outputs": [],
      "source": [
        "from midi_neural_processor import encode_midi, decode_midi\n",
        "\n",
        "MAX_LEN = 600\n",
        "pad_token = 0\n",
        "bos_token = 1\n",
        "eos_token = 2\n",
        "batch_size = 32\n",
        "\n",
        "def encode_midis(folder_dir, enc_dir):\n",
        "  if os.path.exists(enc_dir):\n",
        "    return pickle.load(open(enc_dir, 'rb'))\n",
        "  else:\n",
        "    file_names = os.listdir(folder_dir)\n",
        "    file_names.sort()\n",
        "    file_dirs = [os.path.join(folder_dir, file_name) for file_name in file_names]\n",
        "    enc_midis = []\n",
        "    for i, file_dir in enumerate(file_dirs):\n",
        "        try:\n",
        "            raw_enc_midi = encode_midi(file_dir)\n",
        "            enc_midi = [bos_token] + (torch.tensor(raw_enc_midi) + 3).tolist() + [eos_token]\n",
        "            enc_midis.append(enc_midi)\n",
        "        except Exception as e:\n",
        "            print(i, file_dir, str(e))\n",
        "    pickle.dump(enc_midis, open(enc_dir, 'wb'))\n",
        "    return enc_midis\n",
        "\n",
        "def build_tensor(enc_midis):\n",
        "  segments = []\n",
        "  for enc_midi in enc_midis:\n",
        "    for i in range(0, len(enc_midi), MAX_LEN):\n",
        "      segment = enc_midi[i:i+MAX_LEN]\n",
        "      segments.append(segment + [pad_token] * (MAX_LEN - len(segment)))\n",
        "  array = torch.tensor(segments)\n",
        "  valid_len = (array != pad_token).sum(1)\n",
        "  return array, valid_len \n",
        "\n",
        "def load_data(folder_dir, file_dir, batch_size=1):\n",
        "  enc_midis = encode_midis(folder_dir, file_dir)\n",
        "  array, valid_len = build_tensor(enc_midis)\n",
        "  data = torch.utils.data.TensorDataset(array, valid_len)\n",
        "  iterations = torch.utils.data.DataLoader(data, batch_size, shuffle=True)\n",
        "  return iterations\n",
        "\n",
        "train_iter = load_data('dataset/orig', 'dataset/enc_midis_orig.pkl', batch_size)\n",
        "\n",
        "def load_debug(folder_dir, file_dir, batch_size=1):\n",
        "  enc_midis = encode_midis(folder_dir, file_dir)\n",
        "  array, valid_len = build_tensor(enc_midis[0:1])\n",
        "  data = torch.utils.data.TensorDataset(array[0:1], valid_len[0:1])\n",
        "  iterations = torch.utils.data.DataLoader(data, batch_size, shuffle=True)\n",
        "  return iterations\n",
        "\n",
        "debug_iter = load_debug('dataset/orig', 'dataset/enc_midis_orig.pkl', batch_size=1)"
      ]
    },
    {
      "cell_type": "code",
      "execution_count": null,
      "metadata": {
        "id": "Sb7PafDLaehd",
        "outputId": "010ff307-0548-47fa-df4d-9dd32cc96ec8"
      },
      "outputs": [
        {
          "name": "stdout",
          "output_type": "stream",
          "text": [
            "{'file_count': 446, 'min_sec': 67.54, 'max_sec': 878.67, 'avg_sec': 191.53, 'min_token': 360, 'max_token': 19908, 'avg_token': 8428.43}\n"
          ]
        }
      ],
      "source": [
        "def dataset_summary(folder_dir, file_name):\n",
        "  file_names = os.listdir(folder_dir)\n",
        "  file_dirs = [os.path.join(folder_dir, file_name) for file_name in file_names]\n",
        "  midi_objects = [pretty_midi.PrettyMIDI(file_dir) for file_dir in file_dirs]\n",
        "  lens_sec = [midi_object.get_end_time() for midi_object in midi_objects]\n",
        "  enc_midis = encode_midis(folder_dir, file_name)\n",
        "  lens_token = [len(x) for x in enc_midis]\n",
        "\n",
        "  summary = {\n",
        "      'file_count': len(file_names),\n",
        "      'min_sec': round(min(lens_sec), 2),\n",
        "      'max_sec': round(max(lens_sec), 2),\n",
        "      'avg_sec': round(sum(lens_sec) / len(lens_sec), 2),\n",
        "      'min_token': round(min(lens_token), 2),\n",
        "      'max_token': round(max(lens_token), 2),\n",
        "      'avg_token': round(sum(lens_token) / len(lens_token), 2)\n",
        "  }\n",
        "  print(summary)\n",
        "\n",
        "dataset_summary(\"dataset/orig\", \"dataset/enc_midis_orig.pkl\")"
      ]
    },
    {
      "cell_type": "code",
      "execution_count": null,
      "metadata": {
        "id": "bhiPm3hAiUdq"
      },
      "outputs": [],
      "source": [
        "def save_checkpoint(model, optimizer, loss_list, checkpoint_dir, file_name):\n",
        "    if not os.path.exists(checkpoint_dir):\n",
        "        os.makedirs(checkpoint_dir)\n",
        "    file_dir = os.path.join(checkpoint_dir, file_name)\n",
        "    checkpoint = {\n",
        "        'model_state_dict': model.state_dict(),\n",
        "        'optimizer_state_dict': optimizer.state_dict(),\n",
        "        'loss_list': loss_list\n",
        "    }\n",
        "    torch.save(checkpoint, file_dir)\n",
        "        \n",
        "def load_checkpoint(model, optimizer, loss_list, checkpoint_dir, file_name):\n",
        "    file_dir = os.path.join(checkpoint_dir, file_name)\n",
        "    if os.path.exists(file_dir):\n",
        "      checkpoint = torch.load(file_dir)\n",
        "      model.load_state_dict(checkpoint['model_state_dict'])\n",
        "      optimizer.load_state_dict(checkpoint['optimizer_state_dict'])\n",
        "      loss_list = checkpoint['loss_list']\n",
        "      print('model {}\\titers {}\\tloss {}'.format(file_name, len(loss_list), loss_list[-1]))\n",
        "      model.eval()\n",
        "        \n",
        "def generate_output(model, primer, valid_len, output_dir, prefix_name):\n",
        "    if not os.path.exists(output_dir):\n",
        "        os.makedirs(output_dir)\n",
        "    preds = model.predict(primer, valid_len)\n",
        "    for i, pred in enumerate(preds):\n",
        "        raw = (pred - 3).tolist()[:valid_len[i]]\n",
        "        enc = list(itertools.takewhile(lambda x: x >= 0, raw))\n",
        "        decode_midi(enc, os.path.join(output_dir, prefix_name + \"_\" + str(i) + '.midi'))"
      ]
    },
    {
      "cell_type": "code",
      "execution_count": null,
      "metadata": {
        "id": "jnctNGBQiUds"
      },
      "outputs": [],
      "source": [
        "def train_net(net, optimizer, loss_list, train_iter, lr, epochs, clip, device):\n",
        "  #training\n",
        "  net = net.to(device)\n",
        "\n",
        "  # scheduler = torch.optim.lr_scheduler.ReduceLROnPlateau(optimizer, 'min', patience=0)\n",
        "  # scheduler = torch.optim.lr_scheduler.MultiStepLR(optimizer, milestones=[10,30], gamma=0.1)\n",
        "  print_interval = len(train_iter)\n",
        "  prev_epochs = len(loss_list) // len(train_iter)\n",
        "  total_iter = (prev_epochs + epochs) * len(train_iter)\n",
        "  for i in range(0, len(loss_list), len(train_iter)):\n",
        "    print('iter {} / {}\\tLoss:\\t{:.6f}'.format(i, total_iter, loss_list[i]))\n",
        "  \n",
        "  for e in range(prev_epochs, prev_epochs + epochs):\n",
        "    # train_loss = 0\n",
        "    net.train()\n",
        "    for i, train_data in enumerate(train_iter):\n",
        "      train_data = [ds.to(device) for ds in train_data]\n",
        "\n",
        "      loss, pred = net(*train_data)\n",
        "      # if torch.isnan(loss):\n",
        "      #   return\n",
        "\n",
        "      # train_loss += loss.detach().cpu()\n",
        "      loss_list.append(loss.detach().cpu())\n",
        "      optimizer.zero_grad()\n",
        "      loss.backward()\n",
        "      torch.nn.utils.clip_grad_norm_(net.parameters(), clip)\n",
        "      optimizer.step()\n",
        "\n",
        "      step = i + e * len(train_iter)\n",
        "      if step % print_interval == 0:\n",
        "        print('iter {} / {}\\tLoss:\\t{:.6f}'.format(step, total_iter, loss.detach()))\n",
        "        # print('pred:\\t {}\\n'.format(pred[0].detach().cpu()))\n",
        "        # print('tgt:\\t {}\\n'.format(train_data[0][0][1:].cpu()))\n",
        "\n",
        "    # curr_lr = optimizer.param_groups[0]['lr']\n",
        "    # print('epoch {}\\tLoss:\\t{:.6f}\\tLR:\\t{}'.format(e, train_loss/len(train_iter), curr_lr))\n",
        "    # scheduler.step(train_loss/len(train_iter))\n",
        "    # scheduler.step()\n",
        "\n",
        "def comp_acc(pred, gt, valid_len):\n",
        "  N, T_gt = gt.shape[:2]\n",
        "  _, T_pr = pred.shape[:2]\n",
        "  assert T_gt == T_pr, 'Prediction and target should have the same length.'\n",
        "  len_mask = torch.arange(T_gt).expand(N, T_gt)\n",
        "  len_mask = len_mask < valid_len[:, None]\n",
        "  \n",
        "  pred_crr = (pred == gt).float() * len_mask.float() # filter out the 'bos' token\n",
        "  pred_acc = pred_crr.sum(dim=-1) / (valid_len - 1).float() # minus the 'bos' token\n",
        "  return pred_acc\n",
        "  \n",
        "def evaluate_net(net, train_iter, device):\n",
        "  acc_list = []\n",
        "  for i, train_data in enumerate(train_iter):\n",
        "    train_data = [ds.to(device) for ds in train_data]\n",
        "\n",
        "    pred = net.predict(train_data[0][:,:60], train_data[1])\n",
        "\n",
        "    pred_acc = comp_acc(pred.detach().cpu(), train_data[0].detach().cpu()[:, 1:], train_data[1].cpu())\n",
        "    acc_list.append(pred_acc)\n",
        "#     if i < 5:# print 5 samples from 5 batches/\n",
        "#       print('pred:\\t {}\\n'.format(pred[0].detach().cpu()))\n",
        "#       print('tgt:\\t {}\\n'.format(train_data[0][0][1:].cpu()))\n",
        "\n",
        "  print('Prediction Acc.: {:.4f}'.format(torch.cat(acc_list).mean()))"
      ]
    },
    {
      "cell_type": "markdown",
      "metadata": {
        "id": "-_eNhJJFJgzD"
      },
      "source": [
        "# RNN"
      ]
    },
    {
      "cell_type": "code",
      "execution_count": null,
      "metadata": {
        "id": "C5VO4YgxLdA8"
      },
      "outputs": [],
      "source": [
        "class RNN(nn.Module):\n",
        "  def __init__(self, vocab_size, embedding_dim, hidden_size, num_layers):\n",
        "    super(RNN, self).__init__()\n",
        "    \"\"\"\n",
        "    inputs:\n",
        "      vocab_size: int, the number of words in the vocabulary\n",
        "      embedding_dim: int, dimension of the word embedding\n",
        "      hidden_size: int, dimension of vallina RNN\n",
        "    \"\"\"\n",
        "    self.hidden_size = hidden_size\n",
        "    self.num_layers = num_layers\n",
        "\n",
        "    self.embedding = nn.Embedding(vocab_size, embedding_dim)\n",
        "    self.rnn = nn.GRU(embedding_dim, hidden_size, num_layers, batch_first=True)\n",
        "    self.fc = nn.Linear(hidden_size, vocab_size)\n",
        "    \n",
        "  def forward(self, target, valid_len):\n",
        "    loss = 0\n",
        "    preds = []\n",
        "      \n",
        "    embedded = self.embedding(target)\n",
        "    # embedded (N, T, embedding_dim)\n",
        "\n",
        "    N, T = target.shape\n",
        "    h = target.new_zeros(self.num_layers, N, self.hidden_size).float()\n",
        "\n",
        "    for t in range(T-1):\n",
        "      inputs = embedded[:, t].unsqueeze(1)\n",
        "      # inputs (B, n, embedding_dim)\n",
        "      o, h = self.rnn(inputs, h)\n",
        "      # o (B, n, hidden_size)\n",
        "      # h (num_layers, B, hidden_size)\n",
        "      pred = self.fc(o)\n",
        "      # pred (B, n, vocab_size)\n",
        "      loss += F.nll_loss(F.log_softmax(pred[:, 0]), target[:, t+1], ignore_index=pad_token)\n",
        "      preds.append(pred)\n",
        "        \n",
        "    preds = torch.cat(preds, dim=1).argmax(dim=-1)\n",
        "    # preds (B, T) (32, 600)\n",
        "    return loss, preds\n",
        "  \n",
        "  def predict(self, target, valid_len):\n",
        "    N, T = target.shape\n",
        "    h = target.new_zeros(self.num_layers, N, self.hidden_size).float()\n",
        "\n",
        "    inputs = target[:, :1]\n",
        "    preds = []\n",
        "\n",
        "    for t in range(torch.max(valid_len)-1):\n",
        "      inputs_embedded = self.embedding(inputs)\n",
        "      o, h = self.rnn(inputs_embedded, h)\n",
        "      if t+1 < T:\n",
        "        inputs = target[:, t+1:t+2]\n",
        "      else:\n",
        "        pred = self.fc(o)\n",
        "        inputs = pred.argmax(dim=-1)\n",
        "      preds.append(inputs)\n",
        "      \n",
        "    preds = torch.cat(preds, dim=1)\n",
        "    return preds"
      ]
    },
    {
      "cell_type": "code",
      "execution_count": null,
      "metadata": {
        "id": "XuKwLTNairsf"
      },
      "outputs": [],
      "source": [
        "seed(1)\n",
        "\n",
        "vocab_size = 388+3\n",
        "embedding_dim = 256\n",
        "hidden_size = 512\n",
        "num_layers = 3\n",
        "\n",
        "lr = 1e-3\n",
        "epochs = 50\n",
        "clip = 1\n",
        "\n",
        "rnn_net = RNN(vocab_size, embedding_dim, hidden_size, num_layers).to(device)\n",
        "rnn_optim = torch.optim.Adam(rnn_net.parameters(), lr=lr)\n",
        "rnn_loss_list = []"
      ]
    },
    {
      "cell_type": "code",
      "execution_count": null,
      "metadata": {
        "colab": {
          "base_uri": "https://localhost:8080/",
          "height": 409
        },
        "id": "jjgo3X_-8R7v",
        "outputId": "59b1233f-9e80-471f-983a-fa5fe595ba1e"
      },
      "outputs": [
        {
          "name": "stderr",
          "output_type": "stream",
          "text": [
            "<ipython-input-20-0d70ed7953c5>:35: UserWarning: Implicit dimension choice for log_softmax has been deprecated. Change the call to include dim=X as an argument.\n",
            "  loss += F.nll_loss(F.log_softmax(pred[:, 0]), target[:, t+1], ignore_index=pad_token)\n"
          ]
        },
        {
          "name": "stdout",
          "output_type": "stream",
          "text": [
            "iter 0 / 10150\tLoss:\t3575.138184\n",
            "iter 203 / 10150\tLoss:\t1023.328613\n",
            "iter 406 / 10150\tLoss:\t694.667786\n",
            "iter 609 / 10150\tLoss:\t590.456787\n",
            "iter 812 / 10150\tLoss:\t487.218964\n",
            "iter 1015 / 10150\tLoss:\t428.631561\n",
            "iter 1218 / 10150\tLoss:\t384.394562\n",
            "iter 1421 / 10150\tLoss:\t388.859161\n",
            "iter 1624 / 10150\tLoss:\t329.447937\n",
            "iter 1827 / 10150\tLoss:\t312.280609\n",
            "iter 2030 / 10150\tLoss:\t275.065399\n",
            "iter 2233 / 10150\tLoss:\t257.640961\n",
            "iter 2436 / 10150\tLoss:\t223.821609\n",
            "iter 2639 / 10150\tLoss:\t218.524750\n",
            "iter 2842 / 10150\tLoss:\t195.901382\n",
            "iter 3045 / 10150\tLoss:\t182.689499\n",
            "iter 3248 / 10150\tLoss:\t186.846100\n",
            "iter 3451 / 10150\tLoss:\t157.963516\n",
            "iter 3654 / 10150\tLoss:\t147.486206\n",
            "iter 3857 / 10150\tLoss:\t132.573608\n",
            "iter 4060 / 10150\tLoss:\t123.308037\n",
            "iter 4263 / 10150\tLoss:\t127.370758\n",
            "iter 4466 / 10150\tLoss:\t122.860199\n",
            "iter 4669 / 10150\tLoss:\t109.469841\n",
            "iter 4872 / 10150\tLoss:\t107.117760\n",
            "iter 5075 / 10150\tLoss:\t97.707672\n",
            "iter 5278 / 10150\tLoss:\t94.180161\n",
            "iter 5481 / 10150\tLoss:\t92.633568\n",
            "iter 5684 / 10150\tLoss:\t83.107399\n",
            "iter 5887 / 10150\tLoss:\t85.816048\n",
            "iter 6090 / 10150\tLoss:\t73.251083\n",
            "iter 6293 / 10150\tLoss:\t83.369675\n",
            "iter 6496 / 10150\tLoss:\t81.041977\n",
            "iter 6699 / 10150\tLoss:\t82.624283\n",
            "iter 6902 / 10150\tLoss:\t72.791870\n",
            "iter 7105 / 10150\tLoss:\t75.884903\n",
            "iter 7308 / 10150\tLoss:\t72.070412\n",
            "iter 7511 / 10150\tLoss:\t80.167068\n",
            "iter 7714 / 10150\tLoss:\t72.307281\n",
            "iter 7917 / 10150\tLoss:\t73.290962\n",
            "iter 8120 / 10150\tLoss:\t70.551216\n",
            "iter 8323 / 10150\tLoss:\t79.876358\n",
            "iter 8526 / 10150\tLoss:\t64.848190\n",
            "iter 8729 / 10150\tLoss:\t74.797577\n",
            "iter 8932 / 10150\tLoss:\t73.646233\n",
            "iter 9135 / 10150\tLoss:\t75.875648\n",
            "iter 9338 / 10150\tLoss:\t59.808102\n",
            "iter 9541 / 10150\tLoss:\t66.917145\n",
            "iter 9744 / 10150\tLoss:\t63.379818\n",
            "iter 9947 / 10150\tLoss:\t64.276794\n",
            "Elapsed time:  14918.636347293854\n"
          ]
        }
      ],
      "source": [
        "start = time.time()\n",
        "train_net(rnn_net, rnn_optim, rnn_loss_list, train_iter, lr, epochs, clip, device)\n",
        "end = time.time()\n",
        "print(\"Elapsed time: \", end - start)\n",
        "save_checkpoint(rnn_net, rnn_optim, rnn_loss_list, \"checkpoint\", \"rnn.pt\")"
      ]
    },
    {
      "cell_type": "code",
      "execution_count": null,
      "metadata": {
        "id": "B0sTtI9OSI-U",
        "outputId": "6d301108-6ad7-42cd-d9af-da0098364fda"
      },
      "outputs": [
        {
          "data": {
            "text/plain": [
              "Text(0.5, 1.0, 'Loss Curve of RNN')"
            ]
          },
          "execution_count": 23,
          "metadata": {},
          "output_type": "execute_result"
        },
        {
          "data": {
            "image/png": "[encoded data removed]",
            "text/plain": [
              "<Figure size 432x288 with 1 Axes>"
            ]
          },
          "metadata": {
            "image/png": {
              "height": 263,
              "width": 381
            },
            "needs_background": "light"
          },
          "output_type": "display_data"
        }
      ],
      "source": [
        "plt.plot(np.arange(len(rnn_loss_list)), rnn_loss_list)\n",
        "plt.title('Loss Curve of RNN')"
      ]
    },
    {
      "cell_type": "code",
      "execution_count": null,
      "metadata": {
        "id": "RUkCqNV5bdrc",
        "outputId": "3bcddec1-c169-4f1a-d67d-a2b23a4d7ef7"
      },
      "outputs": [
        {
          "name": "stdout",
          "output_type": "stream",
          "text": [
            "model rnn.pt\titers 10150\tloss 81.57682037353516\n"
          ]
        }
      ],
      "source": [
        "load_checkpoint(rnn_net, rnn_optim, rnn_loss_list, 'checkpoint', 'rnn.pt')"
      ]
    },
    {
      "cell_type": "code",
      "execution_count": null,
      "metadata": {
        "id": "bLCEb6ufoTYU"
      },
      "outputs": [],
      "source": [
        "primer = torch.tensor([[bos_token]]).to(device)\n",
        "valid_len = torch.full((1,), 600).to(device)\n",
        "generate_output(rnn_net, primer, valid_len, 'output', \"rnn\")"
      ]
    },
    {
      "cell_type": "code",
      "execution_count": null,
      "metadata": {
        "id": "L6hzsUkIWaLD",
        "outputId": "bd94990a-111e-4a41-d222-42d36e12ead0"
      },
      "outputs": [
        {
          "name": "stdout",
          "output_type": "stream",
          "text": [
            "Prediction Acc.: 0.2409\n"
          ]
        }
      ],
      "source": [
        "evaluate_net(rnn_net, train_iter, device)"
      ]
    },
    {
      "cell_type": "markdown",
      "metadata": {
        "id": "zxi_XHsgITJe"
      },
      "source": [
        "# CNN"
      ]
    },
    {
      "cell_type": "code",
      "execution_count": null,
      "metadata": {
        "id": "_ZnjUyrbIXYp"
      },
      "outputs": [],
      "source": [
        "class CausalConv1d(nn.Module):\n",
        "  def __init__(self, in_channels, out_channels, kernel_size, stride=1, dilation=1, groups=1, bias=True):\n",
        "    super(CausalConv1d, self).__init__()\n",
        "    self.padding = (kernel_size - 1) * dilation\n",
        "    self.conv1d = nn.Conv1d(in_channels, out_channels, kernel_size, stride=stride, padding=self.padding, dilation=dilation, groups=groups, bias=bias)\n",
        "\n",
        "  def forward(self, inputs):\n",
        "    out = self.conv1d(inputs)\n",
        "    if self.padding != 0:\n",
        "      return out[:, :, : -self.padding]\n",
        "    return out"
      ]
    },
    {
      "cell_type": "code",
      "execution_count": null,
      "metadata": {
        "id": "NT796okGeuSx"
      },
      "outputs": [],
      "source": [
        "class ResBlock(nn.Module):\n",
        "  def __init__(self, res_channels, skip_channels, kernel_size, dilation):\n",
        "    super(ResBlock, self).__init__()\n",
        "    self.res_channels = res_channels\n",
        "    self.conv_dilated = CausalConv1d(res_channels, res_channels * 2, kernel_size, dilation=dilation)\n",
        "    self.conv_res = CausalConv1d(res_channels, res_channels, 1)\n",
        "    self.conv_skip = CausalConv1d(res_channels, skip_channels, 1)\n",
        "\n",
        "  def forward(self, inputs):\n",
        "    dilated = self.conv_dilated(inputs)\n",
        "    dilated_split = torch.split(dilated, self.res_channels, dim=1)\n",
        "    gated = torch.tanh(dilated_split[0]) * torch.sigmoid(dilated_split[1])\n",
        "    out = self.conv_res(gated)\n",
        "    out += inputs\n",
        "    skip = self.conv_skip(gated)\n",
        "    return out, skip"
      ]
    },
    {
      "cell_type": "code",
      "execution_count": null,
      "metadata": {
        "id": "G3CqsYeqmjp3"
      },
      "outputs": [],
      "source": [
        "class ResStack(nn.Module):\n",
        "  def __init__(self, res_channels, skip_channels, kernel_size, dilation_depth, num_repeat):\n",
        "    super(ResStack, self).__init__()\n",
        "    dilations = [2 ** d for d in range(dilation_depth)] * num_repeat\n",
        "    self.res_blocks = nn.ModuleList([ResBlock(res_channels, skip_channels, kernel_size, d) for d in dilations])\n",
        "\n",
        "  def forward(self, inputs):\n",
        "    out = inputs\n",
        "    skips = 0\n",
        "    for res_block in self.res_blocks:\n",
        "      out, skip = res_block(out)\n",
        "      skips += skip\n",
        "    return skips"
      ]
    },
    {
      "cell_type": "code",
      "execution_count": null,
      "metadata": {
        "id": "VECJpOBeIXrF"
      },
      "outputs": [],
      "source": [
        "class WaveNet(nn.Module):\n",
        "  def __init__(self, vocab_size, embedding_dim, res_channels, dilation_depth, num_repeat, kernel_size):\n",
        "    super(WaveNet, self).__init__()\n",
        "    self.embedding = nn.Embedding(vocab_size, embedding_dim)\n",
        "    self.causal = CausalConv1d(embedding_dim, res_channels, kernel_size)\n",
        "    self.res_stack = ResStack(res_channels, embedding_dim, kernel_size, dilation_depth, num_repeat)\n",
        "    self.relu1 = nn.ReLU()\n",
        "    self.linear1 = nn.Conv1d(embedding_dim, vocab_size, 1)\n",
        "    self.relu2 = nn.ReLU()\n",
        "    self.linear2 = nn.Conv1d(vocab_size, vocab_size, 1)\n",
        "\n",
        "  def forward(self, target, valid_len):\n",
        "    embedded = self.embedding(target)\n",
        "    embedded = embedded.permute(0,2,1)\n",
        "    causal = self.causal(embedded)\n",
        "    skips = self.res_stack(causal)\n",
        "    linear = self.linear2(self.relu2(self.linear1(self.relu1(skips))))\n",
        "    preds = linear.permute(0,2,1)\n",
        "    return preds"
      ]
    },
    {
      "cell_type": "code",
      "execution_count": null,
      "metadata": {
        "id": "v1Ws1Lx2azbA"
      },
      "outputs": [],
      "source": [
        "class CNN(nn.Module):\n",
        "  def __init__(self, cnn, **kwargs):\n",
        "    super(CNN, self).__init__(**kwargs)\n",
        "    self.cnn = cnn\n",
        "\n",
        "  def forward(self, tgt_array, tgt_valid_len):\n",
        "    loss = 0\n",
        "\n",
        "    preds = self.cnn(tgt_array, tgt_valid_len)\n",
        "\n",
        "    T = tgt_array.shape[1]\n",
        "    \n",
        "    for t in range(T-1):\n",
        "      loss += F.nll_loss(F.log_softmax(preds[:, t]), tgt_array[:, t+1], ignore_index=pad_token)\n",
        "\n",
        "    preds = preds.argmax(dim=-1)\n",
        "    \n",
        "    return loss, preds\n",
        "        \n",
        "  def predict(self, tgt_array, tgt_valid_len):\n",
        "    N, T = tgt_array.shape\n",
        "\n",
        "    inputs = tgt_array[:, :1]\n",
        "    outputs = [tgt_array[:, :1]]\n",
        "\n",
        "    for t in range(torch.max(tgt_valid_len)-1):\n",
        "      o = self.cnn(inputs, tgt_valid_len)\n",
        "      if t+1 < T:\n",
        "        output = tgt_array[:, t+1:t+2]\n",
        "      else:\n",
        "        output = o[:,-1:].argmax(dim=-1)\n",
        "      outputs.append(output)\n",
        "      inputs = torch.cat(outputs, dim=1)\n",
        "      \n",
        "    return inputs[:, 1:]"
      ]
    },
    {
      "cell_type": "code",
      "execution_count": null,
      "metadata": {
        "id": "INBhBFUxazod"
      },
      "outputs": [],
      "source": [
        "seed(1)\n",
        "\n",
        "vocab_size = 388+3\n",
        "embedding_dim = 256\n",
        "res_channels = 512\n",
        "dilation_depth = 10\n",
        "num_repeat = 1\n",
        "kernel_size = 2\n",
        "\n",
        "lr = 1e-3\n",
        "epochs = 50\n",
        "clip = 1\n",
        "\n",
        "wave_net = WaveNet(vocab_size, embedding_dim, res_channels, dilation_depth, num_repeat, kernel_size)\n",
        "cnn_net = CNN(wave_net).to(device)\n",
        "cnn_optim = torch.optim.Adam(cnn_net.parameters(), lr=lr)\n",
        "cnn_loss_list = []"
      ]
    },
    {
      "cell_type": "code",
      "execution_count": null,
      "metadata": {
        "id": "tuJ7Monia7ig",
        "outputId": "feeaf10f-c70e-4495-eb19-7e522b7cd171"
      },
      "outputs": [
        {
          "name": "stderr",
          "output_type": "stream",
          "text": [
            "<ipython-input-25-36064f9e0e40>:14: UserWarning: Implicit dimension choice for log_softmax has been deprecated. Change the call to include dim=X as an argument.\n",
            "  loss += F.nll_loss(F.log_softmax(preds[:, t]), tgt_array[:, t+1], ignore_index=pad_token)\n"
          ]
        },
        {
          "name": "stdout",
          "output_type": "stream",
          "text": [
            "iter 0 / 10150\tLoss:\t3575.409912\n",
            "iter 203 / 10150\tLoss:\t801.517700\n",
            "iter 406 / 10150\tLoss:\t616.704285\n",
            "iter 609 / 10150\tLoss:\t518.552490\n",
            "iter 812 / 10150\tLoss:\t458.577698\n",
            "iter 1015 / 10150\tLoss:\t426.785645\n",
            "iter 1218 / 10150\tLoss:\t366.128540\n",
            "iter 1421 / 10150\tLoss:\t329.388428\n",
            "iter 1624 / 10150\tLoss:\t301.539642\n",
            "iter 1827 / 10150\tLoss:\t267.528503\n",
            "iter 2030 / 10150\tLoss:\t265.190918\n",
            "iter 2233 / 10150\tLoss:\t208.148788\n",
            "iter 2436 / 10150\tLoss:\t213.431534\n",
            "iter 2639 / 10150\tLoss:\t215.202850\n",
            "iter 2842 / 10150\tLoss:\t199.065659\n",
            "iter 3045 / 10150\tLoss:\t161.708664\n",
            "iter 3248 / 10150\tLoss:\t192.144028\n",
            "iter 3451 / 10150\tLoss:\t192.492233\n",
            "iter 3654 / 10150\tLoss:\t181.768280\n",
            "iter 3857 / 10150\tLoss:\t178.320129\n",
            "iter 4060 / 10150\tLoss:\t174.242950\n",
            "iter 4263 / 10150\tLoss:\t160.665161\n",
            "iter 4466 / 10150\tLoss:\t178.880188\n",
            "iter 4669 / 10150\tLoss:\t185.720688\n",
            "iter 4872 / 10150\tLoss:\t152.540436\n",
            "iter 5075 / 10150\tLoss:\t165.119690\n",
            "iter 5278 / 10150\tLoss:\t171.498535\n",
            "iter 5481 / 10150\tLoss:\t181.857224\n",
            "iter 5684 / 10150\tLoss:\t174.595978\n",
            "iter 5887 / 10150\tLoss:\t183.100677\n",
            "iter 6090 / 10150\tLoss:\t182.233734\n",
            "iter 6293 / 10150\tLoss:\t189.822723\n",
            "iter 6496 / 10150\tLoss:\t190.333786\n",
            "iter 6699 / 10150\tLoss:\t196.747025\n",
            "iter 6902 / 10150\tLoss:\t195.136856\n",
            "iter 7105 / 10150\tLoss:\t193.612915\n",
            "iter 7308 / 10150\tLoss:\t206.924957\n",
            "iter 7511 / 10150\tLoss:\t198.129807\n",
            "iter 7714 / 10150\tLoss:\t202.687683\n",
            "iter 7917 / 10150\tLoss:\t193.043671\n",
            "iter 8120 / 10150\tLoss:\t206.763428\n",
            "iter 8323 / 10150\tLoss:\t211.334259\n",
            "iter 8526 / 10150\tLoss:\t206.727783\n",
            "iter 8729 / 10150\tLoss:\t208.579605\n",
            "iter 8932 / 10150\tLoss:\t224.064285\n",
            "iter 9135 / 10150\tLoss:\t227.696884\n",
            "iter 9338 / 10150\tLoss:\t210.382065\n",
            "iter 9541 / 10150\tLoss:\t220.491409\n",
            "iter 9744 / 10150\tLoss:\t230.536453\n",
            "iter 9947 / 10150\tLoss:\t226.407669\n",
            "Elapsed time:  7413.418849229813\n"
          ]
        }
      ],
      "source": [
        "start = time.time()\n",
        "train_net(cnn_net, cnn_optim, cnn_loss_list, train_iter, lr, epochs, clip, device)\n",
        "end = time.time()\n",
        "print(\"Elapsed time: \", end - start)\n",
        "save_checkpoint(cnn_net, cnn_optim, cnn_loss_list, \"checkpoint\", \"cnn.pt\")"
      ]
    },
    {
      "cell_type": "code",
      "execution_count": null,
      "metadata": {
        "id": "CCkAz1HUa-sF",
        "outputId": "0e5d4776-9b5f-4fe1-8f80-7b66101da75a"
      },
      "outputs": [
        {
          "data": {
            "text/plain": [
              "Text(0.5, 1.0, 'Loss Curve of CNN')"
            ]
          },
          "execution_count": 28,
          "metadata": {},
          "output_type": "execute_result"
        },
        {
          "data": {
            "image/png": "[encoded data removed]",
            "text/plain": [
              "<Figure size 432x288 with 1 Axes>"
            ]
          },
          "metadata": {
            "image/png": {
              "height": 263,
              "width": 381
            },
            "needs_background": "light"
          },
          "output_type": "display_data"
        }
      ],
      "source": [
        "plt.plot(np.arange(len(cnn_loss_list)), cnn_loss_list)\n",
        "plt.title('Loss Curve of CNN')"
      ]
    },
    {
      "cell_type": "code",
      "execution_count": null,
      "metadata": {
        "id": "rU6dcydCbA38",
        "outputId": "ef41ce96-0134-4643-d987-cb4b26c4c924"
      },
      "outputs": [
        {
          "name": "stdout",
          "output_type": "stream",
          "text": [
            "model cnn.pt\titers 10150\tloss 310.1690673828125\n"
          ]
        }
      ],
      "source": [
        "load_checkpoint(cnn_net, cnn_optim, cnn_loss_list, 'checkpoint', 'cnn.pt')"
      ]
    },
    {
      "cell_type": "code",
      "execution_count": null,
      "metadata": {
        "id": "FzlhO5z0bBoW"
      },
      "outputs": [],
      "source": [
        "primer = torch.tensor([[bos_token]]).to(device)\n",
        "valid_len = torch.full((1,), 600).to(device)\n",
        "generate_output(cnn_net, primer, valid_len, 'output', \"cnn\")"
      ]
    },
    {
      "cell_type": "code",
      "execution_count": null,
      "metadata": {
        "id": "8lDJk3V8bBxX",
        "outputId": "307830c9-9857-4231-a62a-f3c6516b4217"
      },
      "outputs": [
        {
          "name": "stdout",
          "output_type": "stream",
          "text": [
            "Prediction Acc.: 0.1805\n"
          ]
        }
      ],
      "source": [
        "evaluate_net(cnn_net, train_iter, device)"
      ]
    },
    {
      "cell_type": "markdown",
      "metadata": {
        "id": "X249adsCJlKp"
      },
      "source": [
        "# Transformer"
      ]
    },
    {
      "cell_type": "code",
      "execution_count": null,
      "metadata": {
        "id": "nULBzYpSoTYU"
      },
      "outputs": [],
      "source": [
        "def masked_softmax(X, valid_length):\n",
        "  \"\"\"\n",
        "  inputs:\n",
        "    X: 3-D tensor\n",
        "    valid_length: 1-D or 2-D tensor\n",
        "  \"\"\"\n",
        "  mask_value = -1e7 \n",
        "\n",
        "  if len(X.shape) == 2:\n",
        "    X = X.unsqueeze(1)\n",
        "\n",
        "  N, n, m = X.shape\n",
        "\n",
        "  if len(valid_length.shape) == 1:\n",
        "    valid_length = valid_length.repeat_interleave(n, dim=0)\n",
        "  else:\n",
        "    valid_length = valid_length.reshape((-1,))\n",
        "\n",
        "  mask = torch.arange(m)[None, :].to(X.device) >= valid_length[:, None]\n",
        "  X.view(-1, m)[mask] = mask_value\n",
        "\n",
        "  Y = torch.softmax(X, dim=-1)\n",
        "\n",
        "  \n",
        "  return Y"
      ]
    },
    {
      "cell_type": "code",
      "execution_count": null,
      "metadata": {
        "id": "PoAg2wtaInpG"
      },
      "outputs": [],
      "source": [
        "class DotProductAttention(nn.Module): \n",
        "  def __init__(self):\n",
        "      super(DotProductAttention, self).__init__()\n",
        "\n",
        "  def forward(self, query, key, value, valid_length=None):\n",
        "    \"\"\"\n",
        "    inputs:\n",
        "      query: tensor of size (B, n, d)\n",
        "      key: tensor of size (B, m, d)\n",
        "      value: tensor of size (B, m, dim_v)\n",
        "      valid_length: (B, )\n",
        "\n",
        "      B is the batch_size, n is the number of queries, m is the number of <key, value> pairs,\n",
        "      d is the feature dimension of the query, and dim_v is the feature dimension of the value.\n",
        "\n",
        "    Outputs:\n",
        "      attention: tensor of size (B, n, dim_v), weighted sum of values\n",
        "    \"\"\"\n",
        "    d = key.shape[2]\n",
        "    a = torch.bmm(query, key.permute(0,2,1))/(d ** 0.5)\n",
        "    b = masked_softmax(a, valid_length)\n",
        "    attention = torch.bmm(b, value)\n",
        "\n",
        "    return attention"
      ]
    },
    {
      "cell_type": "code",
      "execution_count": null,
      "metadata": {
        "id": "E8hC4XZJInpH"
      },
      "outputs": [],
      "source": [
        "class MultiHeadAttention(nn.Module):\n",
        "  def __init__(self, d_model, d_k, num_heads,  **kwargs):\n",
        "    super(MultiHeadAttention, self).__init__()\n",
        "    \"\"\"\n",
        "    Inputs:\n",
        "      d_model: int, the same d_model in paper, feature dimension of query/key/values\n",
        "      d_k: int, feature projected dimension of query/key/value, we follow the setting in the paper, where d_v=d_k=d_q\n",
        "      num_heads: int, number of heads used for this MultiHeadAttention\n",
        "    \"\"\"\n",
        "    self.num_heads = num_heads\n",
        "    self.attention = DotProductAttention()\n",
        "    self.W_q = nn.Linear(d_model, num_heads * d_k)\n",
        "    self.W_k = nn.Linear(d_model, num_heads * d_k)\n",
        "    self.W_v = nn.Linear(d_model, num_heads * d_k)\n",
        "    self.W_o = nn.Linear(num_heads * d_k, d_model)\n",
        "\n",
        "  def forward(self, query, key, value, valid_length):\n",
        "    \"\"\"\n",
        "    inputs:\n",
        "      query: tensor of size (B, T, d_model)\n",
        "      key: tensor of size (B, T, d_model)\n",
        "      value: tensor of size (B, T, d_model)\n",
        "      valid_length: (B, )\n",
        "\n",
        "      B is the batch_size, T is length of sequence, d_model is the feature dimensions of query,\n",
        "      key, and value.\n",
        "\n",
        "    Outputs:\n",
        "      attention (B, T, d_model)\n",
        "      \"\"\"\n",
        "    query = self.W_q(query)\n",
        "    # query (B, T_q, num_heads * d_k)\n",
        "    key = self.W_k(key)\n",
        "    # key (B, T, num_heads * d_k)\n",
        "    value = self.W_v(value)\n",
        "    # value (B, T, num_heads * d_k)\n",
        "\n",
        "    B, T, num_hiddens = key.shape\n",
        "    _, T_q, _ = query.shape\n",
        "    d_k = num_hiddens // self.num_heads\n",
        "\n",
        "    query = query.reshape(B, T_q, self.num_heads, -1).permute(0,2,1,3).reshape(-1, T_q, d_k)\n",
        "    # query (B * num_heads, T_q, d_k)\n",
        "    key = key.reshape(B, T, self.num_heads, -1).permute(0,2,1,3).reshape(-1, T, d_k)\n",
        "    # key (B * num_heads, T, d_k)\n",
        "    value = value.reshape(B, T, self.num_heads, -1).permute(0,2,1,3).reshape(-1, T, d_k)\n",
        "    # value (B * num_heads, T, d_k)\n",
        "\n",
        "    valid_length = torch.repeat_interleave(valid_length, repeats=self.num_heads, dim=0)\n",
        "\n",
        "    attention = self.attention(query, key, value, valid_length)\n",
        "    # attention (B * num_heads, T_q, d_k)\n",
        "    attention = attention.reshape(-1, self.num_heads, T_q, d_k).permute(0,2,1,3).reshape(B, T_q, -1)\n",
        "    # attention (B, T_q, num_heads * d_k)\n",
        "    attention = self.W_o(attention)\n",
        "    # attention (B, T_q, d_model)\n",
        "\n",
        "    return attention"
      ]
    },
    {
      "cell_type": "code",
      "execution_count": null,
      "metadata": {
        "id": "tZROFk4EInpI"
      },
      "outputs": [],
      "source": [
        "class PositionWiseFFN(nn.Module):\n",
        "  def __init__(self, input_size, ffn_l1_size, ffn_l2_size):\n",
        "    super(PositionWiseFFN, self).__init__()\n",
        "    \"\"\"\n",
        "    Inputs:\n",
        "      input_size: int, feature dimension of the input\n",
        "      fnn_l1_size: int, feature dimension of the output after the first position-wise FFN.\n",
        "      fnn_l2_size: int, feature dimension of the output after the second position-wise FFN.\n",
        "    \"\"\"\n",
        "    self.ffn_l1 = nn.Linear(input_size, ffn_l1_size)\n",
        "    self.relu = nn.ReLU()\n",
        "    self.ffn_l2 = nn.Linear(ffn_l1_size, ffn_l2_size)\n",
        "\n",
        "  def forward(self, X):\n",
        "    \"\"\"\n",
        "    Input:\n",
        "      X: tensor of size (N, T, D_in)\n",
        "    Output:\n",
        "      o: tensor of size (N, T, D_out)\n",
        "    \"\"\"\n",
        "    o = self.ffn_l2(self.relu(self.ffn_l1(X)))\n",
        "    return o"
      ]
    },
    {
      "cell_type": "code",
      "execution_count": null,
      "metadata": {
        "id": "xkgG4deFInpI"
      },
      "outputs": [],
      "source": [
        "class PositionalEncoding(nn.Module):\n",
        "  def __init__(self, dim, device, max_len=100000):\n",
        "    super(PositionalEncoding, self).__init__()\n",
        "    \"\"\"\n",
        "    Inputs:\n",
        "      dim: feature dimension of the positional encoding\n",
        "    \"\"\"\n",
        "    self.pe = torch.zeros((1, max_len, dim), device=device)\n",
        "    X = torch.arange(max_len, dtype=torch.float32).reshape(-1, 1) / torch.pow(10000, torch.arange(0, dim, 2, dtype=torch.float32) / dim)\n",
        "    self.pe[:, :, 0::2] = torch.sin(X)\n",
        "    self.pe[:, :, 1::2] = torch.cos(X)\n",
        "\n",
        "\n",
        "  def forward(self, X):\n",
        "    \"\"\"\n",
        "    Inputs:\n",
        "      X: tensor of size (N, T, D_in)\n",
        "    Output:\n",
        "      Y: tensor of the same size of X\n",
        "    \"\"\"\n",
        "    N, T, D_in = X.shape\n",
        "    Y = X + self.pe[:, :T, :]\n",
        "\n",
        "    return Y"
      ]
    },
    {
      "cell_type": "code",
      "execution_count": null,
      "metadata": {
        "id": "bilUvN77InpI"
      },
      "outputs": [],
      "source": [
        "class AddNorm(nn.Module):\n",
        "    def __init__(self, dropout, embedding_size):\n",
        "        super(AddNorm, self).__init__()\n",
        "        self.dropout = nn.Dropout(dropout)\n",
        "        self.norm = nn.LayerNorm(embedding_size)\n",
        "\n",
        "    def forward(self, X, Y):\n",
        "        return self.norm(self.dropout(Y) + X)"
      ]
    },
    {
      "cell_type": "code",
      "execution_count": null,
      "metadata": {
        "id": "-QCuFn3hInpJ"
      },
      "outputs": [],
      "source": [
        "class DecoderBlock(nn.Module):\n",
        "  def __init__(self, d_model, d_k, ffn_l1_size, ffn_l2_size, num_heads,\n",
        "             dropout, **kwargs):\n",
        "    super(DecoderBlock, self).__init__()\n",
        "    \"\"\"\n",
        "    Inputs:\n",
        "      d_model: int, feature dimension of query/key/value\n",
        "      d_k: int, feature projected dimension of query/key/value, we follow the setting in the paper, where d_v=d_k=d_q\n",
        "      fnn_l1_size: int, feature dimension of the output after the first position-wise FFN.\n",
        "      fnn_l2_size: int, feature dimension of the output after the second position-wise FFN.\n",
        "      num_heads: int, number of head for multi-head attention layer.\n",
        "      dropout: dropout probability for dropout layer.\n",
        "      \n",
        "    \"\"\"\n",
        "    self.attention = MultiHeadAttention(d_model, d_k, num_heads)\n",
        "    self.addnorm_1 = AddNorm(dropout, d_model)\n",
        "    self.ffn = PositionWiseFFN(d_model, ffn_l1_size, ffn_l2_size)\n",
        "    self.addnorm_2 = AddNorm(dropout, d_model)\n",
        "\n",
        "  def forward(self, X, valid_len):\n",
        "    \"\"\"\n",
        "    Inputs:\n",
        "      X: tensor of size (N, T, D), embedded input sequences\n",
        "      **kwargs: other arguments you think is necessary for implementation\n",
        "    Outputs:\n",
        "      Y: tensor of size (N, T, D_out)\n",
        "      \n",
        "      Feel free to output variables if necessary.\n",
        "    \"\"\"\n",
        "    N, T, D = X.shape\n",
        "    if self.training:\n",
        "      dec_valid_len = torch.arange(1, T+1).repeat(N, 1).to(device)\n",
        "    else:\n",
        "      dec_valid_len = torch.full((N,), T).to(device)\n",
        "    X = self.addnorm_1(X, self.attention(X, X, X, dec_valid_len))\n",
        "    Y = self.addnorm_2(X, self.ffn(X))\n",
        "\n",
        "    return Y"
      ]
    },
    {
      "cell_type": "code",
      "execution_count": null,
      "metadata": {
        "id": "RiDDi7x2InpJ"
      },
      "outputs": [],
      "source": [
        "class TransformerDecoder(nn.Module):\n",
        "  def __init__(self, vocab_size, d_model, ffn_l1_size, ffn_l2_size,\n",
        "             num_heads, num_layers, dropout, device):\n",
        "    super(TransformerDecoder, self).__init__()\n",
        "    \"\"\"\n",
        "    Inputs:\n",
        "      d_model: int, feature dimension of query/key/value\n",
        "      fnn_l1_size: int, feature dimension of the output after the first position-wise FFN.\n",
        "      fnn_l2_size: int, feature dimension of the output after the second position-wise FFN.\n",
        "      num_heads: int, number of head for multi-head attention layer.\n",
        "      dropout: dropout probability for dropout layer.\n",
        "      num_layers: number of decoder blocks\n",
        "    \"\"\"\n",
        "    self.d_model = d_model\n",
        "    self.embedding = nn.Embedding(vocab_size, d_model)\n",
        "    self.pos_enc = PositionalEncoding(d_model, device=device)\n",
        "    self.layers = nn.ModuleList([DecoderBlock(d_model, d_model // num_heads, ffn_l1_size, ffn_l2_size, num_heads, dropout) for _ in range(num_layers)])\n",
        "    self.dense = nn.Linear(d_model, vocab_size)\n",
        "\n",
        "\n",
        "  def forward(self, X, valid_len):\n",
        "    \"\"\"\n",
        "    Inputs:\n",
        "      X: tensor of size (N, T, D), embedded input sequences\n",
        "      valid_length: tensor of size (N,), valid lengths for each sequence\n",
        "    \"\"\"\n",
        "    X = self.pos_enc(self.embedding(X) * (self.d_model ** 0.5))\n",
        "    for layer in self.layers:\n",
        "      X = layer(X, valid_len)\n",
        "    Y = self.dense(X)\n",
        "    \n",
        "    return Y"
      ]
    },
    {
      "cell_type": "code",
      "execution_count": null,
      "metadata": {
        "id": "6osKKu-eInpJ"
      },
      "outputs": [],
      "source": [
        "class Transformer(nn.Module):\n",
        "  \"\"\"The base class for the encoder-decoder architecture.\"\"\"\n",
        "  def __init__(self, decoder, **kwargs):\n",
        "    super(Transformer, self).__init__(**kwargs)\n",
        "    self.decoder = decoder\n",
        "\n",
        "  def forward(self, tgt_array, tgt_valid_len):\n",
        "    \"\"\"Forward function\"\"\"\n",
        "    loss = 0\n",
        "\n",
        "    preds = self.decoder(tgt_array, tgt_valid_len)\n",
        "\n",
        "    T = tgt_array.shape[1]\n",
        "    \n",
        "    for t in range(T-1):\n",
        "      loss += F.nll_loss(F.log_softmax(preds[:, t]), tgt_array[:, t+1], ignore_index=pad_token)\n",
        "\n",
        "    preds = preds.argmax(dim=-1)\n",
        "    \n",
        "    return loss, preds\n",
        "        \n",
        "  def predict(self, tgt_array, tgt_valid_len):\n",
        "    N, T = tgt_array.shape\n",
        "\n",
        "    inputs = tgt_array[:, :1]\n",
        "    outputs = [tgt_array[:, :1]]\n",
        "\n",
        "    for t in range(torch.max(tgt_valid_len)-1):\n",
        "      o = self.decoder(inputs, tgt_valid_len)\n",
        "      if t+1 < T:\n",
        "        output = tgt_array[:, t+1:t+2]\n",
        "      else:\n",
        "        output = o[:,-1:].argmax(dim=-1)\n",
        "      outputs.append(output)\n",
        "      inputs = torch.cat(outputs, dim=1)\n",
        "      \n",
        "    return inputs[:, 1:]"
      ]
    },
    {
      "cell_type": "code",
      "execution_count": null,
      "metadata": {
        "id": "NuHh4CAAiUdy"
      },
      "outputs": [],
      "source": [
        "seed(1)\n",
        "\n",
        "vocab_size = 388+3\n",
        "d_model = 256 #512\n",
        "ffn_l1_size = 512 #2048\n",
        "ffn_l2_size = d_model\n",
        "num_heads = 8\n",
        "num_layers = 8 #6\n",
        "dropout = 0.1\n",
        "\n",
        "lr = 1e-3\n",
        "epochs = 50 #250\n",
        "clip = 1\n",
        "\n",
        "decoder = TransformerDecoder(vocab_size, d_model, ffn_l1_size, ffn_l2_size,\n",
        "                             num_heads, num_layers, dropout, device=device)\n",
        "transformer_net = Transformer(decoder).to(device)\n",
        "transformer_optim = torch.optim.Adam(transformer_net.parameters(), lr=lr)\n",
        "transformer_loss_list = []"
      ]
    },
    {
      "cell_type": "code",
      "execution_count": null,
      "metadata": {
        "id": "ZubIeIjEJIH0",
        "outputId": "41d20bc3-8b75-4778-d446-97d00b0ed7df"
      },
      "outputs": [
        {
          "name": "stderr",
          "output_type": "stream",
          "text": [
            "<ipython-input-18-2d6d80aa0ded>:16: UserWarning: Implicit dimension choice for log_softmax has been deprecated. Change the call to include dim=X as an argument.\n",
            "  loss += F.nll_loss(F.log_softmax(preds[:, t]), tgt_array[:, t+1], ignore_index=pad_token)\n"
          ]
        },
        {
          "name": "stdout",
          "output_type": "stream",
          "text": [
            "iter 0 / 10150\tLoss:\t3654.937500\n",
            "iter 203 / 10150\tLoss:\t1494.294189\n",
            "iter 406 / 10150\tLoss:\t1012.245361\n",
            "iter 609 / 10150\tLoss:\t757.851807\n",
            "iter 812 / 10150\tLoss:\t680.383606\n",
            "iter 1015 / 10150\tLoss:\t602.159424\n",
            "iter 1218 / 10150\tLoss:\t611.789001\n",
            "iter 1421 / 10150\tLoss:\t557.963440\n",
            "iter 1624 / 10150\tLoss:\t495.845428\n",
            "iter 1827 / 10150\tLoss:\t510.629181\n",
            "iter 2030 / 10150\tLoss:\t462.182922\n",
            "iter 2233 / 10150\tLoss:\t429.278900\n",
            "iter 2436 / 10150\tLoss:\t438.485535\n",
            "iter 2639 / 10150\tLoss:\t436.460358\n",
            "iter 2842 / 10150\tLoss:\t405.431213\n",
            "iter 3045 / 10150\tLoss:\t424.972504\n",
            "iter 3248 / 10150\tLoss:\t424.536377\n",
            "iter 3451 / 10150\tLoss:\t374.909210\n",
            "iter 3654 / 10150\tLoss:\t363.345245\n",
            "iter 3857 / 10150\tLoss:\t380.718689\n",
            "iter 4060 / 10150\tLoss:\t365.834473\n",
            "iter 4263 / 10150\tLoss:\t362.439941\n",
            "iter 4466 / 10150\tLoss:\t355.280121\n",
            "iter 4669 / 10150\tLoss:\t343.524963\n",
            "iter 4872 / 10150\tLoss:\t384.004761\n",
            "iter 5075 / 10150\tLoss:\t339.634888\n",
            "iter 5278 / 10150\tLoss:\t343.133820\n",
            "iter 5481 / 10150\tLoss:\t375.469696\n",
            "iter 5684 / 10150\tLoss:\t369.760315\n",
            "iter 5887 / 10150\tLoss:\t325.583557\n",
            "iter 6090 / 10150\tLoss:\t323.434326\n",
            "iter 6293 / 10150\tLoss:\t315.512268\n",
            "iter 6496 / 10150\tLoss:\t324.460266\n",
            "iter 6699 / 10150\tLoss:\t310.298248\n",
            "iter 6902 / 10150\tLoss:\t310.984650\n",
            "iter 7105 / 10150\tLoss:\t281.015381\n",
            "iter 7308 / 10150\tLoss:\t312.582977\n",
            "iter 7511 / 10150\tLoss:\t276.962006\n",
            "iter 7714 / 10150\tLoss:\t285.996246\n",
            "iter 7917 / 10150\tLoss:\t284.416107\n",
            "iter 8120 / 10150\tLoss:\t299.277985\n",
            "iter 8323 / 10150\tLoss:\t302.661255\n",
            "iter 8526 / 10150\tLoss:\t293.044739\n",
            "iter 8729 / 10150\tLoss:\t264.436646\n",
            "iter 8932 / 10150\tLoss:\t314.502533\n",
            "iter 9135 / 10150\tLoss:\t292.452850\n",
            "iter 9338 / 10150\tLoss:\t287.622223\n",
            "iter 9541 / 10150\tLoss:\t285.224792\n",
            "iter 9744 / 10150\tLoss:\t284.036194\n",
            "iter 9947 / 10150\tLoss:\t284.507629\n",
            "Elapsed time:  8160.527262210846\n"
          ]
        }
      ],
      "source": [
        "start = time.time()\n",
        "train_net(transformer_net, transformer_optim, transformer_loss_list, train_iter, lr, epochs, clip, device)\n",
        "end = time.time()\n",
        "print(\"Elapsed time: \", end - start)\n",
        "save_checkpoint(transformer_net, transformer_optim, transformer_loss_list, \"checkpoint\", \"transformer.pt\")"
      ]
    },
    {
      "cell_type": "code",
      "execution_count": null,
      "metadata": {
        "id": "aTnmZXYnJMOH",
        "outputId": "da1af3be-2835-43c2-d428-da86e73ba16f"
      },
      "outputs": [
        {
          "data": {
            "text/plain": [
              "Text(0.5, 1.0, 'Loss Curve of Transformer')"
            ]
          },
          "execution_count": 21,
          "metadata": {},
          "output_type": "execute_result"
        },
        {
          "data": {
            "image/png": "[encoded data removed]",
            "text/plain": [
              "<Figure size 432x288 with 1 Axes>"
            ]
          },
          "metadata": {
            "image/png": {
              "height": 263,
              "width": 381
            },
            "needs_background": "light"
          },
          "output_type": "display_data"
        }
      ],
      "source": [
        "plt.plot(np.arange(len(transformer_loss_list)), transformer_loss_list)\n",
        "plt.title('Loss Curve of Transformer')"
      ]
    },
    {
      "cell_type": "code",
      "execution_count": null,
      "metadata": {
        "id": "wbF9D-EUiUdy",
        "outputId": "060d0ca4-f25d-4ca1-db59-81c6d75f40e7"
      },
      "outputs": [
        {
          "name": "stdout",
          "output_type": "stream",
          "text": [
            "model transformer.pt\titers 10150\tloss 271.7147216796875\n"
          ]
        }
      ],
      "source": [
        "load_checkpoint(transformer_net, transformer_optim, transformer_loss_list, 'checkpoint', 'transformer.pt')"
      ]
    },
    {
      "cell_type": "code",
      "execution_count": null,
      "metadata": {
        "id": "8tODNC_tJSVX"
      },
      "outputs": [],
      "source": [
        "primer = torch.tensor([[bos_token]]).to(device)\n",
        "valid_len = torch.full((1,), 600).to(device)\n",
        "generate_output(transformer_net, primer, valid_len, 'output', \"transformer\")"
      ]
    },
    {
      "cell_type": "code",
      "execution_count": null,
      "metadata": {
        "id": "wB36klrM46-p"
      },
      "outputs": [],
      "source": [
        "evaluate_net(transformer_net, train_iter, device)"
      ]
    },
    {
      "cell_type": "markdown",
      "metadata": {
        "id": "8w2uQ3DTURnn"
      },
      "source": [
        "# VAE"
      ]
    },
    {
      "cell_type": "code",
      "execution_count": null,
      "metadata": {
        "id": "Kct9_HonUVxK"
      },
      "outputs": [],
      "source": [
        "class VAEEncoder(nn.Module):\n",
        "  def __init__(self, vocab_size, embedding_dim, hidden_size, num_layers, latent_dim):\n",
        "    super(VAEEncoder, self).__init__()\n",
        "    \"\"\"\n",
        "    inputs:\n",
        "      vocab_size: int, the number of words in the vocabulary\n",
        "      embedding_dim: int, dimension of the word embedding\n",
        "      hidden_size: int, dimension of vallina RNN\n",
        "    \"\"\"\n",
        "    self.embedding = nn.Embedding(vocab_size, embedding_dim)\n",
        "    self.rnn = nn.GRU(embedding_dim, hidden_size, num_layers, batch_first=True, bidirectional=True)\n",
        "    self.hid2mu = nn.Linear(2*hidden_size, latent_dim)\n",
        "    self.hid2logvar = nn.Linear(2*hidden_size, latent_dim)\n",
        "    self.kld = 0\n",
        "\n",
        "  def forward(self, src, src_len):\n",
        "    \"\"\"\n",
        "    Inputs:\n",
        "      source: tensor of size (N, T), where N is the batch size, T is the length of the sequence(s)\n",
        "      valid_len: tensor of size (N,), indicating the valid length of sequence(s) (the length before padding)\n",
        "    \"\"\"\n",
        "    embedded = self.embedding(src)\n",
        "    packed_embedded = nn.utils.rnn.pack_padded_sequence(embedded, src_len.to('cpu'), batch_first=True, enforce_sorted=False)\n",
        "    packed_outputs, hidden = self.rnn(packed_embedded)\n",
        "    outputs, _ = nn.utils.rnn.pad_packed_sequence(packed_outputs, batch_first=True)\n",
        "    hidden = torch.cat((hidden[-2,:,:], hidden[-1,:,:]), dim=1)\n",
        "    mu = self.hid2mu(hidden)\n",
        "    logvar = self.hid2logvar(hidden)\n",
        "    std = torch.exp(0.5*logvar)\n",
        "    eps = torch.randn_like(std)\n",
        "    z = mu + (eps * std)\n",
        "    self.kld = -0.5*torch.sum(logvar-mu.pow(2)-logvar.exp()+1, dim=1).mean()\n",
        "    return z\n"
      ]
    },
    {
      "cell_type": "code",
      "execution_count": null,
      "metadata": {
        "id": "6W9CctA3f64k"
      },
      "outputs": [],
      "source": [
        "class VAEDecoder(nn.Module):\n",
        "  def __init__(self, vocab_size, embedding_dim, hidden_size, num_layers, latent_dim):\n",
        "    super(VAEDecoder, self).__init__()\n",
        "    \"\"\"\n",
        "    inputs:\n",
        "      vocab_size: int, the number of words in the vocabulary\n",
        "      embedding_dim: int, dimension of the word embedding\n",
        "      hidden_size: int, dimension of the hidden state of vanilla RNN\n",
        "    \"\"\"\n",
        "    self.embedding = nn.Embedding(vocab_size, embedding_dim)\n",
        "    self.rnn = nn.GRU(embedding_dim+latent_dim, hidden_size, num_layers, batch_first=True)\n",
        "    self.fc = nn.Linear(hidden_size, vocab_size)\n",
        "    \n",
        "  def forward(self, z, target, h=None):\n",
        "    embedded = self.embedding(target)\n",
        "    N, T, _ = embedded.shape\n",
        "\n",
        "    zs = torch.cat([z]*T, dim=1).view(N, T, -1)\n",
        "    concat = torch.cat([embedded, zs], dim=2)\n",
        "    \n",
        "    o, h = self.rnn(concat, h)\n",
        "    pred = self.fc(o)\n",
        "    return pred, h"
      ]
    },
    {
      "cell_type": "code",
      "execution_count": null,
      "metadata": {
        "id": "mrH-DEXUvbBm"
      },
      "outputs": [],
      "source": [
        "class VAE(nn.Module):\n",
        "  def __init__(self, vocab_size, embedding_dim, hidden_size, num_layers, latent_dim):\n",
        "    super(VAE, self).__init__()\n",
        "    self.hidden_size = hidden_size\n",
        "    self.num_layers = num_layers\n",
        "    self.latent_dim = latent_dim\n",
        "\n",
        "    self.encoder = VAEEncoder(vocab_size, embedding_dim, hidden_size, num_layers, latent_dim)\n",
        "    self.decoder = VAEDecoder(vocab_size, embedding_dim, hidden_size, num_layers, latent_dim)\n",
        "        \n",
        "  def forward(self, tgt_array, tgt_valid_len):\n",
        "    rec_loss = 0\n",
        "\n",
        "    z = self.encoder(tgt_array, tgt_valid_len)\n",
        "    preds, _ = self.decoder(z, tgt_array)\n",
        "\n",
        "    T = tgt_array.shape[1]\n",
        "    \n",
        "    for t in range(T-1):\n",
        "      rec_loss += F.nll_loss(F.log_softmax(preds[:, t]), tgt_array[:, t+1], ignore_index=pad_token)\n",
        "    \n",
        "    elbo = rec_loss + self.encoder.kld\n",
        "    preds = preds.argmax(dim=-1)\n",
        "    \n",
        "    return elbo, preds\n",
        "\n",
        "  def predict(self, target, valid_len):\n",
        "    N, T = target.shape\n",
        "    h = target.new_zeros(self.num_layers, N, self.hidden_size).float()\n",
        "    z = torch.randn(N, self.latent_dim).to(device)\n",
        "\n",
        "    inputs = target[:, :1]\n",
        "    preds = []\n",
        "\n",
        "    for t in range(torch.max(valid_len)-1):\n",
        "      pred, h = self.decoder(z, inputs, h)\n",
        "      if t+1 < T:\n",
        "        inputs = target[:, t+1:t+2]\n",
        "      else:\n",
        "        inputs = pred.argmax(dim=-1)\n",
        "      preds.append(inputs)\n",
        "      \n",
        "    preds = torch.cat(preds, dim=1)\n",
        "    return preds"
      ]
    },
    {
      "cell_type": "code",
      "execution_count": null,
      "metadata": {
        "id": "VpAzo1HZ6vkQ"
      },
      "outputs": [],
      "source": [
        "seed(1)\n",
        "\n",
        "vocab_size = 388+3\n",
        "embedding_dim = 256\n",
        "hidden_size = 512\n",
        "num_layers = 3\n",
        "latent_dim = 64\n",
        "\n",
        "lr = 1e-3\n",
        "epochs = 50\n",
        "clip = 0.1\n",
        "\n",
        "vae_net = VAE(vocab_size, embedding_dim, hidden_size, num_layers, latent_dim).to(device)\n",
        "vae_optim = torch.optim.Adam(vae_net.parameters(), lr=lr)\n",
        "vae_loss_list = []"
      ]
    },
    {
      "cell_type": "code",
      "execution_count": null,
      "metadata": {
        "id": "edoJOEXr6wJd",
        "outputId": "c36ce81a-c893-409f-9537-6e5a1ce4558f"
      },
      "outputs": [
        {
          "name": "stderr",
          "output_type": "stream",
          "text": [
            "<ipython-input-12-1a1ad39bb55e>:20: UserWarning: Implicit dimension choice for log_softmax has been deprecated. Change the call to include dim=X as an argument.\n",
            "  rec_loss += F.nll_loss(F.log_softmax(preds[:, t]), tgt_array[:, t+1], ignore_index=pad_token)\n"
          ]
        },
        {
          "name": "stdout",
          "output_type": "stream",
          "text": [
            "iter 0 / 10150\tLoss:\t3573.935547\n",
            "iter 203 / 10150\tLoss:\t1048.970459\n",
            "iter 406 / 10150\tLoss:\t713.945801\n",
            "iter 609 / 10150\tLoss:\t621.548523\n",
            "iter 812 / 10150\tLoss:\t528.903320\n",
            "iter 1015 / 10150\tLoss:\t486.394196\n",
            "iter 1218 / 10150\tLoss:\t459.722443\n",
            "iter 1421 / 10150\tLoss:\t389.052094\n",
            "iter 1624 / 10150\tLoss:\t390.250214\n",
            "iter 1827 / 10150\tLoss:\t307.711395\n",
            "iter 2030 / 10150\tLoss:\t294.359894\n",
            "iter 2233 / 10150\tLoss:\t277.167847\n",
            "iter 2436 / 10150\tLoss:\t238.532990\n",
            "iter 2639 / 10150\tLoss:\t199.799622\n",
            "iter 2842 / 10150\tLoss:\t208.542252\n",
            "iter 3045 / 10150\tLoss:\t181.151749\n",
            "iter 3248 / 10150\tLoss:\t186.151840\n",
            "iter 3451 / 10150\tLoss:\t173.012436\n",
            "iter 3654 / 10150\tLoss:\t156.886917\n",
            "iter 3857 / 10150\tLoss:\t145.644150\n",
            "iter 4060 / 10150\tLoss:\t139.247269\n",
            "iter 4263 / 10150\tLoss:\t121.506706\n",
            "iter 4466 / 10150\tLoss:\t121.243065\n",
            "iter 4669 / 10150\tLoss:\t117.020844\n",
            "iter 4872 / 10150\tLoss:\t110.532516\n",
            "iter 5075 / 10150\tLoss:\t108.282112\n",
            "iter 5278 / 10150\tLoss:\t100.613373\n",
            "iter 5481 / 10150\tLoss:\t107.031944\n",
            "iter 5684 / 10150\tLoss:\t106.852043\n",
            "iter 5887 / 10150\tLoss:\t91.133926\n",
            "iter 6090 / 10150\tLoss:\t94.426414\n",
            "iter 6293 / 10150\tLoss:\t89.213173\n",
            "iter 6496 / 10150\tLoss:\t90.116333\n",
            "iter 6699 / 10150\tLoss:\t89.230942\n",
            "iter 6902 / 10150\tLoss:\t99.722664\n",
            "iter 7105 / 10150\tLoss:\t87.223465\n",
            "iter 7308 / 10150\tLoss:\t74.269806\n",
            "iter 7511 / 10150\tLoss:\t82.638618\n",
            "iter 7714 / 10150\tLoss:\t80.200638\n",
            "iter 7917 / 10150\tLoss:\t79.143860\n",
            "iter 8120 / 10150\tLoss:\t71.643799\n",
            "iter 8323 / 10150\tLoss:\t69.127792\n",
            "iter 8526 / 10150\tLoss:\t72.029465\n",
            "iter 8729 / 10150\tLoss:\t75.533287\n",
            "iter 8932 / 10150\tLoss:\t70.945045\n",
            "iter 9135 / 10150\tLoss:\t78.538582\n",
            "iter 9338 / 10150\tLoss:\t72.345413\n",
            "iter 9541 / 10150\tLoss:\t66.237823\n",
            "iter 9744 / 10150\tLoss:\t72.004608\n",
            "iter 9947 / 10150\tLoss:\t74.044235\n",
            "Elapsed time:  11688.262615442276\n"
          ]
        }
      ],
      "source": [
        "start = time.time()\n",
        "train_net(vae_net, vae_optim, vae_loss_list, train_iter, lr, epochs, clip, device)\n",
        "end = time.time()\n",
        "print(\"Elapsed time: \", end - start)\n",
        "save_checkpoint(vae_net, vae_optim, vae_loss_list, \"checkpoint\", \"vae.pt\")"
      ]
    },
    {
      "cell_type": "code",
      "execution_count": null,
      "metadata": {
        "id": "AtgNPS986wUm",
        "outputId": "fd83c3ee-54c6-418d-bc02-1998a3924a9b"
      },
      "outputs": [
        {
          "data": {
            "text/plain": [
              "Text(0.5, 1.0, 'Loss Curve of VAE')"
            ]
          },
          "execution_count": 15,
          "metadata": {},
          "output_type": "execute_result"
        },
        {
          "data": {
            "image/png": "[encoded data removed]",
            "text/plain": [
              "<Figure size 432x288 with 1 Axes>"
            ]
          },
          "metadata": {
            "image/png": {
              "height": 263,
              "width": 381
            },
            "needs_background": "light"
          },
          "output_type": "display_data"
        }
      ],
      "source": [
        "plt.plot(np.arange(len(vae_loss_list)), vae_loss_list)\n",
        "plt.title('Loss Curve of VAE')"
      ]
    },
    {
      "cell_type": "code",
      "execution_count": null,
      "metadata": {
        "id": "t4kcCvuo67ie",
        "outputId": "8495355b-8815-4e24-fb17-4aa2644ca845"
      },
      "outputs": [
        {
          "name": "stdout",
          "output_type": "stream",
          "text": [
            "model vae.pt\titers 10150\tloss 98.5639877319336\n"
          ]
        }
      ],
      "source": [
        "load_checkpoint(vae_net, vae_optim, vae_loss_list, 'checkpoint', 'vae.pt')"
      ]
    },
    {
      "cell_type": "code",
      "execution_count": null,
      "metadata": {
        "id": "IbXS27sE67lN"
      },
      "outputs": [],
      "source": [
        "primer = torch.tensor([[bos_token]]).to(device)\n",
        "valid_len = torch.full((1,), 600).to(device)\n",
        "generate_output(vae_net, primer, valid_len, 'output', \"vae\")"
      ]
    },
    {
      "cell_type": "code",
      "execution_count": null,
      "metadata": {
        "id": "tMwiJdo-67ob",
        "outputId": "447c1ec4-272c-41a5-ef3e-4a16c88b65d9"
      },
      "outputs": [
        {
          "name": "stdout",
          "output_type": "stream",
          "text": [
            "Prediction Acc.: 0.2313\n"
          ]
        }
      ],
      "source": [
        "evaluate_net(vae_net, train_iter, device)"
      ]
    },
    {
      "cell_type": "markdown",
      "metadata": {
        "id": "Mnio9iCVNVLT"
      },
      "source": [
        "# GAN"
      ]
    },
    {
      "cell_type": "code",
      "execution_count": null,
      "metadata": {
        "id": "l9BJUX6tBVfD"
      },
      "outputs": [],
      "source": [
        "class Discriminator(nn.Module):\n",
        "  def __init__(self, vocab_size, embedding_dim, hidden_size, num_layers, dense_size):\n",
        "    super(Discriminator, self).__init__()\n",
        "    \"\"\"\n",
        "    inputs:\n",
        "      vocab_size: int, the number of words in the vocabulary\n",
        "      embedding_dim: int, dimension of the word embedding\n",
        "      hidden_size: int, dimension of vallina RNN\n",
        "    \"\"\"\n",
        "    self.embedding = nn.Embedding(vocab_size, embedding_dim)\n",
        "    self.rnn = nn.GRU(embedding_dim, hidden_size, num_layers, batch_first=True, bidirectional=True)\n",
        "    self.fc1 = nn.Linear(2*hidden_size, dense_size)\n",
        "    self.relu = nn.ReLU()\n",
        "    self.dropout = nn.Dropout()\n",
        "    self.fc2 = nn.Linear(dense_size, 1)\n",
        "\n",
        "  def forward(self, src):\n",
        "    \"\"\"\n",
        "    Inputs:\n",
        "      source: tensor of size (N, T), where N is the batch size, T is the length of the sequence(s)\n",
        "      valid_len: tensor of size (N,), indicating the valid length of sequence(s) (the length before padding)\n",
        "    \"\"\"\n",
        "    embedded = self.embedding(src)\n",
        "    outputs, hidden = self.rnn(embedded)\n",
        "    h = torch.cat((hidden[-2,:,:], hidden[-1,:,:]), dim=1)\n",
        "    o = self.fc2(self.dropout(self.relu(self.fc1(h))))\n",
        "    return o, h\n"
      ]
    },
    {
      "cell_type": "code",
      "execution_count": null,
      "metadata": {
        "id": "UnHmRWI0bT19"
      },
      "outputs": [],
      "source": [
        "class Generator(nn.Module):\n",
        "  def __init__(self, vocab_size, embedding_dim, hidden_size, num_layers, latent_dim):\n",
        "    super(Generator, self).__init__()\n",
        "    \"\"\"\n",
        "    inputs:\n",
        "      vocab_size: int, the number of words in the vocabulary\n",
        "      embedding_dim: int, dimension of the word embedding\n",
        "      hidden_size: int, dimension of the hidden state of vanilla RNN\n",
        "    \"\"\"\n",
        "    self.hidden_size = hidden_size\n",
        "    self.num_layers = num_layers\n",
        "    self.latent_dim = latent_dim\n",
        "\n",
        "    self.embedding = nn.Embedding(vocab_size, embedding_dim)\n",
        "    self.rnn = nn.GRU(embedding_dim+latent_dim, hidden_size, num_layers, batch_first=True)\n",
        "    self.fc = nn.Linear(hidden_size, vocab_size)\n",
        "    \n",
        "  def forward(self, z):\n",
        "    N, _ = z.shape\n",
        "    primer = z.new_full((N, 1), bos_token).int()\n",
        "    h = z.new_zeros(self.num_layers, N, self.hidden_size).float()\n",
        "\n",
        "    inputs = primer\n",
        "    preds = [primer]\n",
        "    \n",
        "    for t in range(MAX_LEN-1):\n",
        "      inputs_embedded = self.embedding(inputs)\n",
        "      concat = torch.cat((inputs_embedded, z.unsqueeze(1)), dim=2)\n",
        "      o, h = self.rnn(concat, h)\n",
        "      pred = self.fc(o)\n",
        "      inputs = pred.argmax(dim=-1)\n",
        "      preds.append(inputs)\n",
        "    \n",
        "    preds = torch.cat(preds, dim=1)\n",
        "    return preds\n",
        "\n",
        "  def predict(self, target, valid_len):\n",
        "    N, T = target.shape\n",
        "    h = target.new_zeros(self.num_layers, N, self.hidden_size).float()\n",
        "    z = torch.randn(N, self.latent_dim).to(device)\n",
        "\n",
        "    inputs = target[:, :1]\n",
        "    preds = []\n",
        "\n",
        "    for t in range(torch.max(valid_len)-1):\n",
        "      inputs_embedded = self.embedding(inputs)\n",
        "      concat = torch.cat((inputs_embedded, z.unsqueeze(1)), dim=2)\n",
        "      o, h = self.rnn(concat, h)\n",
        "      pred = self.fc(o)\n",
        "      if t+1 < T:\n",
        "        inputs = target[:, t+1:t+2]\n",
        "      else:\n",
        "        inputs = pred.argmax(dim=-1)\n",
        "      preds.append(inputs)\n",
        "      \n",
        "    preds = torch.cat(preds, dim=1)\n",
        "    return preds"
      ]
    },
    {
      "cell_type": "code",
      "execution_count": null,
      "metadata": {
        "id": "yRPv5B5FjAao"
      },
      "outputs": [],
      "source": [
        "def train_gan(d_net, g_net, d_optim, g_optim, d_loss_list, g_loss_list, latent_dim, train_iter, lr, epochs, clip, device):\n",
        "  #training\n",
        "  d_net = d_net.to(device)\n",
        "  g_net = g_net.to(device)\n",
        "\n",
        "  print_interval = len(train_iter)\n",
        "  prev_epochs = len(d_loss_list) // len(train_iter)\n",
        "  total_iter = (prev_epochs + epochs) * len(train_iter)\n",
        "  for i in range(0, len(d_loss_list), len(train_iter)):\n",
        "    print('iter {} / {}\\td_loss:\\t{:.6f}\\tg_loss:\\t{:.6f}'.format(i, total_iter, d_loss_list[i], g_loss_list[i]))\n",
        "\n",
        "  bce_loss = nn.BCEWithLogitsLoss()\n",
        "  mse_loss = nn.MSELoss()\n",
        "  \n",
        "  for e in range(prev_epochs, prev_epochs + epochs):\n",
        "    d_net.train()\n",
        "    g_net.train()\n",
        "    for i, train_data in enumerate(train_iter):\n",
        "      train_data = [ds.to(device) for ds in train_data]\n",
        "\n",
        "      X = train_data[0]\n",
        "      batch_size = X.shape[0]\n",
        "      Z = torch.randn(batch_size, latent_dim).to(device)\n",
        "\n",
        "      ones = torch.ones((batch_size, 1), device=device)\n",
        "      zeros = torch.zeros((batch_size, 1), device=device)\n",
        "\n",
        "      # Update discriminator\n",
        "      real_Y, real_h = d_net(X)\n",
        "      fake_X = g_net(Z)\n",
        "      # Do not need to compute gradient for `g_net`, detach it from computing gradients.\n",
        "      fake_Y, fake_h = d_net(fake_X.detach())\n",
        "      d_loss = (bce_loss(real_Y, ones) + bce_loss(fake_Y, zeros)) / 2\n",
        "      d_optim.zero_grad()\n",
        "      d_loss.backward()\n",
        "      d_optim.step()\n",
        "\n",
        "      # Update generator\n",
        "      # We could reuse `fake_X` from `update_D` to save computation\n",
        "      # Recomputing `fake_Y` is needed since `d_net` is changed\n",
        "      real_Y, real_h = d_net(X)\n",
        "      fake_Y, fake_h = d_net(fake_X)\n",
        "      # g_loss = bce_loss(fake_Y, ones)\n",
        "      g_loss = mse_loss(real_h.detach(), fake_h)\n",
        "      g_optim.zero_grad()\n",
        "      g_loss.backward()\n",
        "      g_optim.step()\n",
        "\n",
        "      d_loss_list.append(d_loss.detach().cpu())\n",
        "      g_loss_list.append(g_loss.detach().cpu())\n",
        "\n",
        "      step = i + e * len(train_iter)\n",
        "      if step % print_interval == 0:\n",
        "        print('iter {} / {}\\td_loss:\\t{:.6f}\\tg_loss:\\t{:.6f}'.format(step, total_iter, d_loss.detach(), g_loss.detach()))"
      ]
    },
    {
      "cell_type": "code",
      "execution_count": null,
      "metadata": {
        "id": "SgYR9Vi47ioQ"
      },
      "outputs": [],
      "source": [
        "seed(1)\n",
        "\n",
        "vocab_size = 388+3\n",
        "embedding_dim = 256\n",
        "hidden_size = 512\n",
        "num_layers = 3\n",
        "latent_dim = 64\n",
        "dense_size = hidden_size\n",
        "\n",
        "lr = 1e-3\n",
        "epochs = 50\n",
        "clip = 1\n",
        "\n",
        "d_net = Discriminator(vocab_size, embedding_dim, hidden_size, num_layers, dense_size).to(device)\n",
        "d_optim = torch.optim.Adam(d_net.parameters(), lr=lr)\n",
        "d_loss_list = []\n",
        "\n",
        "g_net = Generator(vocab_size, embedding_dim, hidden_size, num_layers, latent_dim).to(device)\n",
        "g_optim = torch.optim.Adam(g_net.parameters(), lr=lr)\n",
        "g_loss_list = []"
      ]
    },
    {
      "cell_type": "code",
      "execution_count": null,
      "metadata": {
        "id": "NW5r_z--907o"
      },
      "outputs": [],
      "source": [
        "start = time.time()\n",
        "train_gan(d_net, g_net, d_optim, g_optim, d_loss_list, g_loss_list, latent_dim, train_iter, lr, epochs, clip, device)\n",
        "end = time.time()\n",
        "print(\"Elapsed time: \", end - start)\n",
        "save_checkpoint(d_net, d_optim, d_loss_list, \"checkpoint\", \"discriminator.pt\")\n",
        "save_checkpoint(g_net, g_optim, g_loss_list, \"checkpoint\", \"generator.pt\")"
      ]
    },
    {
      "cell_type": "code",
      "execution_count": null,
      "metadata": {
        "id": "u-roxg1j-0kO"
      },
      "outputs": [],
      "source": [
        "plt.plot(np.arange(len(g_loss_list)), g_loss_list, label='G')\n",
        "plt.plot(np.arange(len(d_loss_list)), d_loss_list, label='D')\n",
        "plt.legend()\n",
        "plt.title('Loss Curve of GAN')"
      ]
    },
    {
      "cell_type": "code",
      "execution_count": null,
      "metadata": {
        "id": "wBN3rId7--EJ"
      },
      "outputs": [],
      "source": [
        "load_checkpoint(d_net, d_optim, d_loss_list, 'checkpoint', 'discriminator.pt')\n",
        "load_checkpoint(g_net, g_optim, g_loss_list, 'checkpoint', 'generator.pt')"
      ]
    },
    {
      "cell_type": "code",
      "execution_count": null,
      "metadata": {
        "id": "v2hIQzMx_cDS"
      },
      "outputs": [],
      "source": [
        "primer = torch.tensor([[bos_token]]).to(device)\n",
        "valid_len = torch.full((1,), 600).to(device)\n",
        "generate_output(g_net, primer, valid_len, 'output', \"gan\")"
      ]
    },
    {
      "cell_type": "code",
      "execution_count": null,
      "metadata": {
        "id": "IpqNl21n_e2I"
      },
      "outputs": [],
      "source": [
        "evaluate_net(g_net, train_iter, device)"
      ]
    },
    {
      "cell_type": "markdown",
      "source": [
        "# A2C"
      ],
      "metadata": {
        "id": "TYrPPQulnjy8"
      }
    },
    {
      "cell_type": "code",
      "execution_count": null,
      "metadata": {
        "id": "sy6ae6W5n0DS"
      },
      "outputs": [],
      "source": [
        "class A2C(nn.Module):\n",
        "  def __init__(self, vocab_size, embedding_dim, hidden_size, num_layers):\n",
        "    super(A2C, self).__init__()\n",
        "    \"\"\"\n",
        "    inputs:\n",
        "      vocab_size: int, the number of words in the vocabulary\n",
        "      embedding_dim: int, dimension of the word embedding\n",
        "      hidden_size: int, dimension of vallina RNN\n",
        "    \"\"\"\n",
        "    self.hidden_size = hidden_size\n",
        "    self.num_layers = num_layers\n",
        "\n",
        "    self.embedding = nn.Embedding(vocab_size, embedding_dim)\n",
        "    self.rnn = nn.GRU(embedding_dim, hidden_size, num_layers, batch_first=True)\n",
        "    self.actor_fc = nn.Linear(hidden_size, vocab_size)\n",
        "    self.critic_fc = nn.Linear(hidden_size, 1)\n",
        "\n",
        "  def forward(self, target, valid_len):\n",
        "    loss = 0\n",
        "    policies = []\n",
        "    values = []\n",
        "    gamma = 0.99\n",
        "      \n",
        "    embedded = self.embedding(target)\n",
        "    # embedded (B, n, embedding_dim)\n",
        "\n",
        "    N, T = target.shape\n",
        "    h = target.new_zeros(self.num_layers, N, self.hidden_size).float()\n",
        "\n",
        "    input = embedded[:, 0].unsqueeze(1)\n",
        "    # input (B, n, embedding_dim)\n",
        "    o, h = self.rnn(input, h)\n",
        "    # o (B, n, hidden_size)\n",
        "    # h (num_layers, B, hidden_size)\n",
        "    policy = self.actor_fc(o)\n",
        "    # policy (B, n, vocab_size)\n",
        "    value = self.critic_fc(o)\n",
        "    # value (B, n, 1)\n",
        "\n",
        "    policies.append(policy)\n",
        "    values.append(value)\n",
        "\n",
        "    for t in range(T-1):\n",
        "      policy = policies[-1]\n",
        "      value = values[-1]\n",
        "      next_input = embedded[:, t+1].unsqueeze(1)\n",
        "      o, h = self.rnn(next_input, h)\n",
        "      next_policy = self.actor_fc(o)\n",
        "      next_value = self.critic_fc(o)\n",
        "\n",
        "      log_prob = F.log_softmax(policy[:, 0])\n",
        "      # log_prob (B, vocab_size)\n",
        "      nll_loss = F.nll_loss(log_prob, target[:, t+1], ignore_index=pad_token, reduction='none')\n",
        "      reward = -nll_loss\n",
        "      # reward = (policy[:, 0].argmax(-1) == target[:, t+1]).float()\n",
        "      # reward (B,)\n",
        "      target_value = reward + gamma * next_value[:, 0, 0]\n",
        "      # target_value (B,)\n",
        "      advantage = target_value - value[:, 0, 0]\n",
        "      # advantage (B,)\n",
        "\n",
        "      actor_loss = (-log_prob * advantage.unsqueeze(-1)).mean()\n",
        "      critic_loss = F.mse_loss(value[:, 0, 0], target_value)\n",
        "      loss += actor_loss + critic_loss\n",
        "\n",
        "      policies.append(next_policy)\n",
        "      values.append(next_value)\n",
        "        \n",
        "    preds = torch.cat(policies, dim=1).argmax(dim=-1)\n",
        "    # preds (B, T) (32, 600)\n",
        "    return loss, preds\n",
        "  \n",
        "  def predict(self, target, valid_len):\n",
        "    N, T = target.shape\n",
        "    h = target.new_zeros(self.num_layers, N, self.hidden_size).float()\n",
        "\n",
        "    inputs = target[:, :1]\n",
        "    preds = []\n",
        "\n",
        "    for t in range(torch.max(valid_len)-1):\n",
        "      inputs_embedded = self.embedding(inputs)\n",
        "      o, h = self.rnn(inputs_embedded, h)\n",
        "      if t+1 < T:\n",
        "        inputs = target[:, t+1:t+2]\n",
        "      else:\n",
        "        pred = self.actor_fc(o)\n",
        "        inputs = pred.argmax(dim=-1)\n",
        "      preds.append(inputs)\n",
        "      \n",
        "    preds = torch.cat(preds, dim=1)\n",
        "    return preds"
      ]
    },
    {
      "cell_type": "code",
      "execution_count": null,
      "metadata": {
        "id": "tRizhtNln0DS"
      },
      "outputs": [],
      "source": [
        "seed(1)\n",
        "\n",
        "vocab_size = 388+3\n",
        "embedding_dim = 256\n",
        "hidden_size = 512\n",
        "num_layers = 3\n",
        "\n",
        "lr = 1e-3\n",
        "epochs = 50\n",
        "clip = 1\n",
        "\n",
        "a2c_net = A2C(vocab_size, embedding_dim, hidden_size, num_layers).to(device)\n",
        "a2c_optim = torch.optim.Adam(a2c_net.parameters(), lr=lr)\n",
        "a2c_loss_list = []"
      ]
    },
    {
      "cell_type": "code",
      "execution_count": null,
      "metadata": {
        "id": "YMdIG_Win0DS"
      },
      "outputs": [],
      "source": [
        "start = time.time()\n",
        "train_net(a2c_net, a2c_optim, a2c_loss_list, debug_iter, lr, epochs, clip, device)\n",
        "end = time.time()\n",
        "print(\"Elapsed time: \", end - start)\n",
        "save_checkpoint(a2c_net, a2c_optim, a2c_loss_list, \"checkpoint\", \"a2c.pt\")"
      ]
    },
    {
      "cell_type": "code",
      "execution_count": null,
      "metadata": {
        "id": "bs17NyG2n0DS"
      },
      "outputs": [],
      "source": [
        "plt.plot(np.arange(len(a2c_loss_list)), a2c_loss_list)\n",
        "plt.title('Loss Curve of A2C')"
      ]
    },
    {
      "cell_type": "code",
      "execution_count": null,
      "metadata": {
        "id": "SCw5w1t1n0DT"
      },
      "outputs": [],
      "source": [
        "load_checkpoint(a2c_net, a2c_optim, a2c_loss_list, 'checkpoint', 'a2c.pt')"
      ]
    },
    {
      "cell_type": "code",
      "execution_count": null,
      "metadata": {
        "id": "raZJIja4n0DT"
      },
      "outputs": [],
      "source": [
        "primer = torch.tensor([[bos_token]]).to(device)\n",
        "valid_len = torch.full((1,), 600).to(device)\n",
        "generate_output(a2c_net, primer, valid_len, 'output', \"a2c\")"
      ]
    },
    {
      "cell_type": "code",
      "execution_count": null,
      "metadata": {
        "id": "Rpz7hXDon0DT"
      },
      "outputs": [],
      "source": [
        "evaluate_net(a2c_net, debug_iter, device)"
      ]
    },
    {
      "cell_type": "code",
      "source": [],
      "metadata": {
        "id": "C6i85Ocvt02J"
      },
      "execution_count": null,
      "outputs": []
    }
  ],
  "metadata": {
    "colab": {
      "provenance": [],
      "toc_visible": true
    },
    "kernelspec": {
      "display_name": "Python 3",
      "language": "python",
      "name": "python3"
    },
    "language_info": {
      "codemirror_mode": {
        "name": "ipython",
        "version": 3
      },
      "file_extension": ".py",
      "mimetype": "text/x-python",
      "name": "python",
      "nbconvert_exporter": "python",
      "pygments_lexer": "ipython3",
      "version": "3.9.5"
    }
  },
  "nbformat": 4,
  "nbformat_minor": 0
}