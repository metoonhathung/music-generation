{
  "cells": [
    {
      "cell_type": "markdown",
      "metadata": {
        "id": "UAvweDElJX3v"
      },
      "source": [
        "# Setup"
      ]
    },
    {
      "cell_type": "code",
      "execution_count": null,
      "metadata": {
        "colab": {
          "base_uri": "https://localhost:8080/"
        },
        "id": "dsSBQA9O2F7L",
        "outputId": "53d22a7d-6dbf-41fb-8072-8dcf5d43c6ff"
      },
      "outputs": [
        {
          "output_type": "stream",
          "name": "stdout",
          "text": [
            "Collecting pretty_midi\n",
            "  Downloading pretty_midi-0.2.10.tar.gz (5.6 MB)\n",
            "\u001b[?25l     \u001b[90m━━━━━━━━━━━━━━━━━━━━━━━━━━━━━━━━━━━━━━━━\u001b[0m \u001b[32m0.0/5.6 MB\u001b[0m \u001b[31m?\u001b[0m eta \u001b[36m-:--:--\u001b[0m\r\u001b[2K     \u001b[91m━━━━━━━━━━━━━━\u001b[0m\u001b[90m╺\u001b[0m\u001b[90m━━━━━━━━━━━━━━━━━━━━━━━━━\u001b[0m \u001b[32m2.0/5.6 MB\u001b[0m \u001b[31m59.2 MB/s\u001b[0m eta \u001b[36m0:00:01\u001b[0m\r\u001b[2K     \u001b[91m━━━━━━━━━━━━━━━━━━━━━━━━━━━━━\u001b[0m\u001b[91m╸\u001b[0m\u001b[90m━━━━━━━━━━\u001b[0m \u001b[32m4.1/5.6 MB\u001b[0m \u001b[31m59.3 MB/s\u001b[0m eta \u001b[36m0:00:01\u001b[0m\r\u001b[2K     \u001b[91m━━━━━━━━━━━━━━━━━━━━━━━━━━━━━━━━━━━━━━━\u001b[0m\u001b[91m╸\u001b[0m \u001b[32m5.6/5.6 MB\u001b[0m \u001b[31m53.2 MB/s\u001b[0m eta \u001b[36m0:00:01\u001b[0m\r\u001b[2K     \u001b[90m━━━━━━━━━━━━━━━━━━━━━━━━━━━━━━━━━━━━━━━━\u001b[0m \u001b[32m5.6/5.6 MB\u001b[0m \u001b[31m41.3 MB/s\u001b[0m eta \u001b[36m0:00:00\u001b[0m\n",
            "\u001b[?25h  Preparing metadata (setup.py) ... \u001b[?25l\u001b[?25hdone\n",
            "Requirement already satisfied: numpy>=1.7.0 in /usr/local/lib/python3.11/dist-packages (from pretty_midi) (2.0.2)\n",
            "Collecting mido>=1.1.16 (from pretty_midi)\n",
            "  Downloading mido-1.3.3-py3-none-any.whl.metadata (6.4 kB)\n",
            "Requirement already satisfied: six in /usr/local/lib/python3.11/dist-packages (from pretty_midi) (1.17.0)\n",
            "Requirement already satisfied: packaging in /usr/local/lib/python3.11/dist-packages (from mido>=1.1.16->pretty_midi) (25.0)\n",
            "Downloading mido-1.3.3-py3-none-any.whl (54 kB)\n",
            "\u001b[2K   \u001b[90m━━━━━━━━━━━━━━━━━━━━━━━━━━━━━━━━━━━━━━━━\u001b[0m \u001b[32m54.6/54.6 kB\u001b[0m \u001b[31m4.1 MB/s\u001b[0m eta \u001b[36m0:00:00\u001b[0m\n",
            "\u001b[?25hBuilding wheels for collected packages: pretty_midi\n",
            "  Building wheel for pretty_midi (setup.py) ... \u001b[?25l\u001b[?25hdone\n",
            "  Created wheel for pretty_midi: filename=pretty_midi-0.2.10-py3-none-any.whl size=5592286 sha256=58d833f91fd34747729f26b0db94697c255f7dabffd52026312bd0ec7d5bf481\n",
            "  Stored in directory: /root/.cache/pip/wheels/e6/95/ac/15ceaeb2823b04d8e638fd1495357adb8d26c00ccac9d7782e\n",
            "Successfully built pretty_midi\n",
            "Installing collected packages: mido, pretty_midi\n",
            "Successfully installed mido-1.3.3 pretty_midi-0.2.10\n",
            "Requirement already satisfied: music21 in /usr/local/lib/python3.11/dist-packages (9.3.0)\n",
            "Requirement already satisfied: chardet in /usr/local/lib/python3.11/dist-packages (from music21) (5.2.0)\n",
            "Requirement already satisfied: joblib in /usr/local/lib/python3.11/dist-packages (from music21) (1.5.1)\n",
            "Requirement already satisfied: jsonpickle in /usr/local/lib/python3.11/dist-packages (from music21) (4.1.1)\n",
            "Requirement already satisfied: matplotlib in /usr/local/lib/python3.11/dist-packages (from music21) (3.10.0)\n",
            "Requirement already satisfied: more-itertools in /usr/local/lib/python3.11/dist-packages (from music21) (10.7.0)\n",
            "Requirement already satisfied: numpy in /usr/local/lib/python3.11/dist-packages (from music21) (2.0.2)\n",
            "Requirement already satisfied: requests in /usr/local/lib/python3.11/dist-packages (from music21) (2.32.3)\n",
            "Requirement already satisfied: webcolors>=1.5 in /usr/local/lib/python3.11/dist-packages (from music21) (24.11.1)\n",
            "Requirement already satisfied: contourpy>=1.0.1 in /usr/local/lib/python3.11/dist-packages (from matplotlib->music21) (1.3.3)\n",
            "Requirement already satisfied: cycler>=0.10 in /usr/local/lib/python3.11/dist-packages (from matplotlib->music21) (0.12.1)\n",
            "Requirement already satisfied: fonttools>=4.22.0 in /usr/local/lib/python3.11/dist-packages (from matplotlib->music21) (4.59.0)\n",
            "Requirement already satisfied: kiwisolver>=1.3.1 in /usr/local/lib/python3.11/dist-packages (from matplotlib->music21) (1.4.8)\n",
            "Requirement already satisfied: packaging>=20.0 in /usr/local/lib/python3.11/dist-packages (from matplotlib->music21) (25.0)\n",
            "Requirement already satisfied: pillow>=8 in /usr/local/lib/python3.11/dist-packages (from matplotlib->music21) (11.3.0)\n",
            "Requirement already satisfied: pyparsing>=2.3.1 in /usr/local/lib/python3.11/dist-packages (from matplotlib->music21) (3.2.3)\n",
            "Requirement already satisfied: python-dateutil>=2.7 in /usr/local/lib/python3.11/dist-packages (from matplotlib->music21) (2.9.0.post0)\n",
            "Requirement already satisfied: charset-normalizer<4,>=2 in /usr/local/lib/python3.11/dist-packages (from requests->music21) (3.4.2)\n",
            "Requirement already satisfied: idna<4,>=2.5 in /usr/local/lib/python3.11/dist-packages (from requests->music21) (3.10)\n",
            "Requirement already satisfied: urllib3<3,>=1.21.1 in /usr/local/lib/python3.11/dist-packages (from requests->music21) (2.5.0)\n",
            "Requirement already satisfied: certifi>=2017.4.17 in /usr/local/lib/python3.11/dist-packages (from requests->music21) (2025.8.3)\n",
            "Requirement already satisfied: six>=1.5 in /usr/local/lib/python3.11/dist-packages (from python-dateutil>=2.7->matplotlib->music21) (1.17.0)\n",
            "Requirement already satisfied: transformers in /usr/local/lib/python3.11/dist-packages (4.55.0)\n",
            "Requirement already satisfied: datasets in /usr/local/lib/python3.11/dist-packages (4.0.0)\n",
            "Requirement already satisfied: tokenizers in /usr/local/lib/python3.11/dist-packages (0.21.4)\n",
            "Requirement already satisfied: filelock in /usr/local/lib/python3.11/dist-packages (from transformers) (3.18.0)\n",
            "Requirement already satisfied: huggingface-hub<1.0,>=0.34.0 in /usr/local/lib/python3.11/dist-packages (from transformers) (0.34.3)\n",
            "Requirement already satisfied: numpy>=1.17 in /usr/local/lib/python3.11/dist-packages (from transformers) (2.0.2)\n",
            "Requirement already satisfied: packaging>=20.0 in /usr/local/lib/python3.11/dist-packages (from transformers) (25.0)\n",
            "Requirement already satisfied: pyyaml>=5.1 in /usr/local/lib/python3.11/dist-packages (from transformers) (6.0.2)\n",
            "Requirement already satisfied: regex!=2019.12.17 in /usr/local/lib/python3.11/dist-packages (from transformers) (2024.11.6)\n",
            "Requirement already satisfied: requests in /usr/local/lib/python3.11/dist-packages (from transformers) (2.32.3)\n",
            "Requirement already satisfied: safetensors>=0.4.3 in /usr/local/lib/python3.11/dist-packages (from transformers) (0.6.1)\n",
            "Requirement already satisfied: tqdm>=4.27 in /usr/local/lib/python3.11/dist-packages (from transformers) (4.67.1)\n",
            "Requirement already satisfied: pyarrow>=15.0.0 in /usr/local/lib/python3.11/dist-packages (from datasets) (18.1.0)\n",
            "Requirement already satisfied: dill<0.3.9,>=0.3.0 in /usr/local/lib/python3.11/dist-packages (from datasets) (0.3.8)\n",
            "Requirement already satisfied: pandas in /usr/local/lib/python3.11/dist-packages (from datasets) (2.2.2)\n",
            "Requirement already satisfied: xxhash in /usr/local/lib/python3.11/dist-packages (from datasets) (3.5.0)\n",
            "Requirement already satisfied: multiprocess<0.70.17 in /usr/local/lib/python3.11/dist-packages (from datasets) (0.70.16)\n",
            "Requirement already satisfied: fsspec<=2025.3.0,>=2023.1.0 in /usr/local/lib/python3.11/dist-packages (from fsspec[http]<=2025.3.0,>=2023.1.0->datasets) (2025.3.0)\n",
            "Requirement already satisfied: aiohttp!=4.0.0a0,!=4.0.0a1 in /usr/local/lib/python3.11/dist-packages (from fsspec[http]<=2025.3.0,>=2023.1.0->datasets) (3.12.15)\n",
            "Requirement already satisfied: typing-extensions>=3.7.4.3 in /usr/local/lib/python3.11/dist-packages (from huggingface-hub<1.0,>=0.34.0->transformers) (4.14.1)\n",
            "Requirement already satisfied: hf-xet<2.0.0,>=1.1.3 in /usr/local/lib/python3.11/dist-packages (from huggingface-hub<1.0,>=0.34.0->transformers) (1.1.7)\n",
            "Requirement already satisfied: charset-normalizer<4,>=2 in /usr/local/lib/python3.11/dist-packages (from requests->transformers) (3.4.2)\n",
            "Requirement already satisfied: idna<4,>=2.5 in /usr/local/lib/python3.11/dist-packages (from requests->transformers) (3.10)\n",
            "Requirement already satisfied: urllib3<3,>=1.21.1 in /usr/local/lib/python3.11/dist-packages (from requests->transformers) (2.5.0)\n",
            "Requirement already satisfied: certifi>=2017.4.17 in /usr/local/lib/python3.11/dist-packages (from requests->transformers) (2025.8.3)\n",
            "Requirement already satisfied: python-dateutil>=2.8.2 in /usr/local/lib/python3.11/dist-packages (from pandas->datasets) (2.9.0.post0)\n",
            "Requirement already satisfied: pytz>=2020.1 in /usr/local/lib/python3.11/dist-packages (from pandas->datasets) (2025.2)\n",
            "Requirement already satisfied: tzdata>=2022.7 in /usr/local/lib/python3.11/dist-packages (from pandas->datasets) (2025.2)\n",
            "Requirement already satisfied: aiohappyeyeballs>=2.5.0 in /usr/local/lib/python3.11/dist-packages (from aiohttp!=4.0.0a0,!=4.0.0a1->fsspec[http]<=2025.3.0,>=2023.1.0->datasets) (2.6.1)\n",
            "Requirement already satisfied: aiosignal>=1.4.0 in /usr/local/lib/python3.11/dist-packages (from aiohttp!=4.0.0a0,!=4.0.0a1->fsspec[http]<=2025.3.0,>=2023.1.0->datasets) (1.4.0)\n",
            "Requirement already satisfied: attrs>=17.3.0 in /usr/local/lib/python3.11/dist-packages (from aiohttp!=4.0.0a0,!=4.0.0a1->fsspec[http]<=2025.3.0,>=2023.1.0->datasets) (25.3.0)\n",
            "Requirement already satisfied: frozenlist>=1.1.1 in /usr/local/lib/python3.11/dist-packages (from aiohttp!=4.0.0a0,!=4.0.0a1->fsspec[http]<=2025.3.0,>=2023.1.0->datasets) (1.7.0)\n",
            "Requirement already satisfied: multidict<7.0,>=4.5 in /usr/local/lib/python3.11/dist-packages (from aiohttp!=4.0.0a0,!=4.0.0a1->fsspec[http]<=2025.3.0,>=2023.1.0->datasets) (6.6.3)\n",
            "Requirement already satisfied: propcache>=0.2.0 in /usr/local/lib/python3.11/dist-packages (from aiohttp!=4.0.0a0,!=4.0.0a1->fsspec[http]<=2025.3.0,>=2023.1.0->datasets) (0.3.2)\n",
            "Requirement already satisfied: yarl<2.0,>=1.17.0 in /usr/local/lib/python3.11/dist-packages (from aiohttp!=4.0.0a0,!=4.0.0a1->fsspec[http]<=2025.3.0,>=2023.1.0->datasets) (1.20.1)\n",
            "Requirement already satisfied: six>=1.5 in /usr/local/lib/python3.11/dist-packages (from python-dateutil>=2.8.2->pandas->datasets) (1.17.0)\n"
          ]
        }
      ],
      "source": [
        "import zipfile\n",
        "import matplotlib.pyplot as plt\n",
        "import random\n",
        "import collections\n",
        "import numpy as np\n",
        "import zipfile\n",
        "import torch\n",
        "import os\n",
        "import torch.nn as nn\n",
        "import torch.nn.functional as F\n",
        "\n",
        "from bs4 import BeautifulSoup\n",
        "import urllib.request\n",
        "import requests\n",
        "\n",
        "!pip install pretty_midi\n",
        "!pip install music21\n",
        "import pretty_midi\n",
        "import music21\n",
        "\n",
        "import pickle\n",
        "import time\n",
        "import itertools\n",
        "\n",
        "!pip install transformers datasets tokenizers"
      ]
    },
    {
      "cell_type": "code",
      "execution_count": null,
      "metadata": {
        "colab": {
          "base_uri": "https://localhost:8080/"
        },
        "id": "2OzFXgfh2QA5",
        "outputId": "7b7444da-2f5c-41bf-e998-d99987ffa189"
      },
      "outputs": [
        {
          "output_type": "stream",
          "name": "stdout",
          "text": [
            "Good to go!\n"
          ]
        }
      ],
      "source": [
        "if torch.cuda.is_available():\n",
        "  print('Good to go!')\n",
        "else:\n",
        "  print('Please set GPU via Edit -> Notebook Settings.')\n",
        "device = torch.device(\"cuda\" if torch.cuda.is_available() else \"cpu\")"
      ]
    },
    {
      "cell_type": "markdown",
      "source": [
        "# Huggingface Transformer"
      ],
      "metadata": {
        "id": "WSJpp1hZKvjT"
      }
    },
    {
      "cell_type": "markdown",
      "source": [
        "[Reference](https://huggingface.co/learn/llm-course/chapter7/6?fw=pt)"
      ],
      "metadata": {
        "id": "kkzHvbxSKer_"
      }
    },
    {
      "cell_type": "code",
      "source": [
        "orig_upmat = pickle.load(open('enc_midis_orig.pkl', 'rb'))\n",
        "\n",
        "orig_mat = [[x-3 for x in row[1:-1]] for row in orig_upmat]\n",
        "\n",
        "print(orig_upmat[0][:20])\n",
        "\n",
        "print(orig_mat[0][:20])"
      ],
      "metadata": {
        "id": "rYw3GQVkNObq",
        "colab": {
          "base_uri": "https://localhost:8080/"
        },
        "outputId": "e429679a-69be-47c6-c3ca-a84d1d94abe6"
      },
      "execution_count": null,
      "outputs": [
        {
          "output_type": "stream",
          "name": "stdout",
          "text": [
            "[1, 353, 387, 65, 387, 77, 387, 73, 387, 70, 279, 193, 205, 201, 198, 269, 387, 66, 387, 70]\n",
            "[350, 384, 62, 384, 74, 384, 70, 384, 67, 276, 190, 202, 198, 195, 266, 384, 63, 384, 67, 384]\n"
          ]
        }
      ]
    },
    {
      "cell_type": "code",
      "source": [
        "trps_upmat = pickle.load(open('enc_midis_trps.pkl', 'rb'))\n",
        "\n",
        "trps_mat = [[x-3 for x in row[1:-1]] for row in trps_upmat]\n",
        "\n",
        "print(trps_upmat[0][:20])\n",
        "\n",
        "print(trps_mat[0][:20])"
      ],
      "metadata": {
        "colab": {
          "base_uri": "https://localhost:8080/"
        },
        "id": "1K1OK4NCBnfH",
        "outputId": "95dc7ce5-4cb3-4188-83fb-3fa3dc69c7e7"
      },
      "execution_count": null,
      "outputs": [
        {
          "output_type": "stream",
          "name": "stdout",
          "text": [
            "[1, 353, 387, 74, 387, 70, 387, 67, 387, 62, 279, 202, 198, 195, 190, 269, 387, 72, 387, 67]\n",
            "[350, 384, 71, 384, 67, 384, 64, 384, 59, 276, 199, 195, 192, 187, 266, 384, 69, 384, 64, 384]\n"
          ]
        }
      ]
    },
    {
      "cell_type": "code",
      "source": [
        "midi_mat = orig_mat + trps_mat\n",
        "\n",
        "len(midi_mat)"
      ],
      "metadata": {
        "colab": {
          "base_uri": "https://localhost:8080/"
        },
        "id": "E8zpyvbTB0r2",
        "outputId": "2fd41d31-5232-4dfc-c950-cfdcff69d5e2"
      },
      "execution_count": null,
      "outputs": [
        {
          "output_type": "execute_result",
          "data": {
            "text/plain": [
              "874"
            ]
          },
          "metadata": {},
          "execution_count": 5
        }
      ]
    },
    {
      "cell_type": "code",
      "source": [
        "with open(\"data_train.txt\", \"w\") as f:\n",
        "    content = \"\\n\".join(\" \" + \" \".join(str(x) for x in row) for row in midi_mat)\n",
        "    f.write(content + \"\\n\")\n",
        "\n",
        "with open(\"data_valid.txt\", \"w\") as f:\n",
        "    content = \"\\n\".join(\" \" + \" \".join(str(x) for x in row) for row in midi_mat[:100])\n",
        "    f.write(content + \"\\n\")"
      ],
      "metadata": {
        "id": "Op2ZJIQ4OvCh"
      },
      "execution_count": null,
      "outputs": []
    },
    {
      "cell_type": "code",
      "source": [
        "from datasets import load_dataset\n",
        "\n",
        "dataset = load_dataset(\"text\", data_files={\"train\": \"data_train.txt\", \"valid\": \"data_valid.txt\"})\n",
        "\n",
        "dataset"
      ],
      "metadata": {
        "colab": {
          "base_uri": "https://localhost:8080/",
          "height": 260,
          "referenced_widgets": [
            "99892bc6c51d4c03b32c310801ce1829",
            "0684194141244be39ad4894dd80193e4",
            "3b7c50a0755843a086ec1017a212ed68",
            "3d3353a0c3b1498d9da42b660620a046",
            "69fb4c48be00455eac1d82132b13215c",
            "66892294834248afbee0fcd0a655c0d7",
            "ab799f8339204c22b7cc0ba58b533ce0",
            "7a04ce7482434c47983cc0c2de6f9906",
            "7da45a2f7ae14a858d8ff2821f7f7fe1",
            "4ee663e348f3422496970c6ded93c8e0",
            "732352f143a943d09bb4c042970f7649",
            "b6ea75e467014aa3bc7bc5f571d919ce",
            "7f3e559c9d6447879c1ef265cc53c65d",
            "5cead7fb2bdf4a23a6477ba3b5e262b1",
            "c26ece8a05654e20b1d7d3056401dd05",
            "22963fd130d346448b5b3ee6c742823e",
            "4b8d2aa238a34f39aa85dbe522a522e6",
            "bd4c6cbd2b81410c8ec069d3f2d804fa",
            "aacc1ef8fbdf49deafdcbfcfbbdb4ddf",
            "67d8121ed5d74993bb0162f5f7f88152",
            "f8dd34066aed490b97eaef1e135a99fd",
            "afb2eee068da4c2a91f9c9dee293528f"
          ]
        },
        "id": "9ThEUHKnTLMq",
        "outputId": "164c4baa-4e79-49d7-d3bc-97c7ce95869e"
      },
      "execution_count": null,
      "outputs": [
        {
          "output_type": "display_data",
          "data": {
            "text/plain": [
              "Generating train split: 0 examples [00:00, ? examples/s]"
            ],
            "application/vnd.jupyter.widget-view+json": {
              "version_major": 2,
              "version_minor": 0,
              "model_id": "99892bc6c51d4c03b32c310801ce1829"
            }
          },
          "metadata": {}
        },
        {
          "output_type": "display_data",
          "data": {
            "text/plain": [
              "Generating valid split: 0 examples [00:00, ? examples/s]"
            ],
            "application/vnd.jupyter.widget-view+json": {
              "version_major": 2,
              "version_minor": 0,
              "model_id": "b6ea75e467014aa3bc7bc5f571d919ce"
            }
          },
          "metadata": {}
        },
        {
          "output_type": "execute_result",
          "data": {
            "text/plain": [
              "DatasetDict({\n",
              "    train: Dataset({\n",
              "        features: ['text'],\n",
              "        num_rows: 874\n",
              "    })\n",
              "    valid: Dataset({\n",
              "        features: ['text'],\n",
              "        num_rows: 100\n",
              "    })\n",
              "})"
            ]
          },
          "metadata": {},
          "execution_count": 7
        }
      ]
    },
    {
      "cell_type": "code",
      "source": [
        "example = dataset[\"train\"][\"text\"][0][:74]\n",
        "\n",
        "example"
      ],
      "metadata": {
        "colab": {
          "base_uri": "https://localhost:8080/",
          "height": 35
        },
        "id": "nz2PF_AGlawm",
        "outputId": "20007103-5884-47c6-c2b6-78253fa071b5"
      },
      "execution_count": null,
      "outputs": [
        {
          "output_type": "execute_result",
          "data": {
            "text/plain": [
              "' 350 384 62 384 74 384 70 384 67 276 190 202 198 195 266 384 63 384 67 384'"
            ],
            "application/vnd.google.colaboratory.intrinsic+json": {
              "type": "string"
            }
          },
          "metadata": {},
          "execution_count": 8
        }
      ]
    },
    {
      "cell_type": "code",
      "source": [
        "from transformers import AutoTokenizer\n",
        "\n",
        "old_tokenizer = AutoTokenizer.from_pretrained(\"gpt2\")"
      ],
      "metadata": {
        "id": "lSm7wk01VZww",
        "colab": {
          "base_uri": "https://localhost:8080/",
          "height": 304,
          "referenced_widgets": [
            "87fc879019904c00a17f41e40aceff65",
            "56f66fc8692848ed875c0fed6a958c71",
            "428918e7cc514e0ba7003632e350f086",
            "eb6c5db59662494c91a64c4f2f04765d",
            "17b52dddd9c54458a4310feec779f85f",
            "421ce84b7fbe4a73830da8a877475c0b",
            "49150e058ec44a568f147318c0f89275",
            "aa65f8d0c9c842e3a7c115cd0afe9ec7",
            "85b32e78204c405eb13af77a625569d6",
            "bac3d0946c8943f48de452fffa761ee6",
            "a49f1e45b06c4aa49443fa8c06ec5837",
            "46f556accbf047f39e26480adc494df7",
            "023adafd42cd4bc1bfcc4f191a7c500e",
            "e4076207e1b8421d9d6d8a5f0ad01ca3",
            "1f9cbb47e7f1418f9891ea700daeb6ca",
            "cf748590b0784a51be2251334772e6be",
            "27cf136262fc45e59425310d36907a95",
            "b39d1aa15c6b43608ea9b77e0d0a0249",
            "fb41b8c4cc1f4c2d8ac2d5157a827f51",
            "88daa85977af41439952ff5b683bb471",
            "5b14b9e2c92b48c8bc455fe36138c3e2",
            "622d4366a91a4325ab8e73e049b46be8",
            "d012eb971e9a40cf97ae3cf61961a97c",
            "ed1237c7d1254d5f86083c9a7ca19b4c",
            "18a3a536d39842ca82ca9d1a0f96a299",
            "3ede3a7304124d9cbe281527974607a5",
            "ba18ca80b9584388acf4bd3e0d1f4eef",
            "9e28f9f9d237402cb8b044980eb7697f",
            "4983a453878546e0a0e327ded97173dd",
            "9a604eba00c04fb78ba11947c6d255a0",
            "d9e811fc6415490d8f36e901c284466b",
            "04faaa5aa7034612aefde261eaee7c51",
            "b92d3e6d58814a929df346b8cfdbeb18",
            "8ce9791d1d9642a2b90e110a45c95b0b",
            "716dafa4d0a74dab9cfd95dc442967be",
            "5eb6b42ddbd04f43ad34dca9f56ceb0a",
            "de6d3200b68046f5a4233a5a3f7abbec",
            "287b6972d3e54bbbb1789181d9df7302",
            "d5b05bbf869d4fe59911d79d71a4882a",
            "7836dd11f4e842a8a629d6a7400ee017",
            "bca5f9943eeb437bba2a9ff96e040228",
            "b8201f9ea22142bb8e9d0db33f8e3bd1",
            "7be4fe28aadb4e1ca5e75578b2b0a31b",
            "876fccddecda4820808709a8da1fc3c0",
            "6e05d5f031fe49aabd5593a35af97840",
            "dbfbc3bda3cd407a87b93bda508c8cd4",
            "915f8a04a56f4803adf02026c3dfdb6a",
            "1ab01aec6b684abbb3e0d60f6d6dd05b",
            "fe18fd1a9fb84389bc550756d50693b8",
            "1b0b9294ba65492688c1848b94346b45",
            "4b5364325fac435c95bbc2f3ea84ee7a",
            "f9e11be0cf2e454187999500e8e0e631",
            "b05d47d7b35b42b594be307a6030c699",
            "a2396af9f81d4f119534e2188a9fbf5f",
            "a44f3f296c864c529db4f5fd6f3613f8"
          ]
        },
        "outputId": "b0f7520b-a22d-4fd3-fbcd-2ee1c0e51415"
      },
      "execution_count": null,
      "outputs": [
        {
          "output_type": "stream",
          "name": "stderr",
          "text": [
            "/usr/local/lib/python3.11/dist-packages/huggingface_hub/utils/_auth.py:94: UserWarning: \n",
            "The secret `HF_TOKEN` does not exist in your Colab secrets.\n",
            "To authenticate with the Hugging Face Hub, create a token in your settings tab (https://huggingface.co/settings/tokens), set it as secret in your Google Colab and restart your session.\n",
            "You will be able to reuse this secret in all of your notebooks.\n",
            "Please note that authentication is recommended but still optional to access public models or datasets.\n",
            "  warnings.warn(\n"
          ]
        },
        {
          "output_type": "display_data",
          "data": {
            "text/plain": [
              "tokenizer_config.json:   0%|          | 0.00/26.0 [00:00<?, ?B/s]"
            ],
            "application/vnd.jupyter.widget-view+json": {
              "version_major": 2,
              "version_minor": 0,
              "model_id": "87fc879019904c00a17f41e40aceff65"
            }
          },
          "metadata": {}
        },
        {
          "output_type": "display_data",
          "data": {
            "text/plain": [
              "config.json:   0%|          | 0.00/665 [00:00<?, ?B/s]"
            ],
            "application/vnd.jupyter.widget-view+json": {
              "version_major": 2,
              "version_minor": 0,
              "model_id": "46f556accbf047f39e26480adc494df7"
            }
          },
          "metadata": {}
        },
        {
          "output_type": "display_data",
          "data": {
            "text/plain": [
              "vocab.json:   0%|          | 0.00/1.04M [00:00<?, ?B/s]"
            ],
            "application/vnd.jupyter.widget-view+json": {
              "version_major": 2,
              "version_minor": 0,
              "model_id": "d012eb971e9a40cf97ae3cf61961a97c"
            }
          },
          "metadata": {}
        },
        {
          "output_type": "display_data",
          "data": {
            "text/plain": [
              "merges.txt:   0%|          | 0.00/456k [00:00<?, ?B/s]"
            ],
            "application/vnd.jupyter.widget-view+json": {
              "version_major": 2,
              "version_minor": 0,
              "model_id": "8ce9791d1d9642a2b90e110a45c95b0b"
            }
          },
          "metadata": {}
        },
        {
          "output_type": "display_data",
          "data": {
            "text/plain": [
              "tokenizer.json:   0%|          | 0.00/1.36M [00:00<?, ?B/s]"
            ],
            "application/vnd.jupyter.widget-view+json": {
              "version_major": 2,
              "version_minor": 0,
              "model_id": "6e05d5f031fe49aabd5593a35af97840"
            }
          },
          "metadata": {}
        }
      ]
    },
    {
      "cell_type": "code",
      "source": [
        "def get_training_corpus():\n",
        "    return (\n",
        "        dataset[\"train\"][i : i + 1000][\"text\"]\n",
        "        for i in range(0, len(dataset[\"train\"]), 1000)\n",
        "    )\n",
        "\n",
        "training_corpus = get_training_corpus()\n",
        "\n",
        "tokenizer = old_tokenizer.train_new_from_iterator(training_corpus, 52000)"
      ],
      "metadata": {
        "id": "EekgDlC_JmO8"
      },
      "execution_count": null,
      "outputs": []
    },
    {
      "cell_type": "code",
      "source": [
        "tokens = tokenizer.tokenize(example)\n",
        "\n",
        "tokens"
      ],
      "metadata": {
        "colab": {
          "base_uri": "https://localhost:8080/"
        },
        "id": "vOzXw4RfVSdh",
        "outputId": "36102563-2ad6-450e-de29-743e4b2dfca0"
      },
      "execution_count": null,
      "outputs": [
        {
          "output_type": "execute_result",
          "data": {
            "text/plain": [
              "['Ġ350',\n",
              " 'Ġ384',\n",
              " 'Ġ62',\n",
              " 'Ġ384',\n",
              " 'Ġ74',\n",
              " 'Ġ384',\n",
              " 'Ġ70',\n",
              " 'Ġ384',\n",
              " 'Ġ67',\n",
              " 'Ġ276',\n",
              " 'Ġ190',\n",
              " 'Ġ202',\n",
              " 'Ġ198',\n",
              " 'Ġ195',\n",
              " 'Ġ266',\n",
              " 'Ġ384',\n",
              " 'Ġ63',\n",
              " 'Ġ384',\n",
              " 'Ġ67',\n",
              " 'Ġ384']"
            ]
          },
          "metadata": {},
          "execution_count": 11
        }
      ]
    },
    {
      "cell_type": "code",
      "source": [
        "context_length = 256\n",
        "\n",
        "def tokenize(element):\n",
        "    outputs = tokenizer(\n",
        "        element[\"text\"],\n",
        "        truncation=True,\n",
        "        max_length=context_length,\n",
        "        return_overflowing_tokens=True,\n",
        "        return_length=True,\n",
        "    )\n",
        "    input_batch = []\n",
        "    for length, input_ids in zip(outputs[\"length\"], outputs[\"input_ids\"]):\n",
        "        if length == context_length:\n",
        "            input_batch.append(input_ids)\n",
        "    return {\"input_ids\": input_batch}\n",
        "\n",
        "\n",
        "tokenized_datasets = dataset.map(\n",
        "    tokenize, batched=True, remove_columns=dataset[\"train\"].column_names\n",
        ")\n",
        "tokenized_datasets"
      ],
      "metadata": {
        "colab": {
          "base_uri": "https://localhost:8080/",
          "height": 260,
          "referenced_widgets": [
            "640162d04a9c4afdab3e37dceb6cde61",
            "e1dfe23951f84930942b602c8334a330",
            "02c7e60341954f7687a7e4450e30f435",
            "a8ccec534e2a4576be70143b64fc1ba3",
            "7c8f07baba724588bb5a73431c8a22b7",
            "f610910a06ef4623a7e2049430b5b280",
            "24562ff2fbd34aa4bcedffbb4338226d",
            "a3c7c8e2f9d2408da72bb5ce7e4db017",
            "fbaa1f5cf99747e3acb96b3bb1a533eb",
            "b3c5edc54cd24a47ab2622339ee8b276",
            "04c148625b374f8c8074d572744934b5",
            "fe2f4640d56a425c8943744a51a3bb5d",
            "87c4eb0a314240b4ba16fcf212100977",
            "0320c00fbafc42d5b325bcac3b6b97ef",
            "fa62e00d74d345b782554ca101799299",
            "dfcb314b8044435faae38e6d12307688",
            "f2f3d864f3fa43568cff6e857ccf944a",
            "c5d50a1ce11a4348a83681f58675c0c8",
            "42fd45613a7241e7b2bf6ffaf22fb857",
            "ef0b3c618ba14abca7661fef0c934149",
            "b7234c3959264919a7980948243113d4",
            "fe454f7d1d2940298e5e5266d1e5676c"
          ]
        },
        "id": "iRj_6Q_Izt7w",
        "outputId": "6d3ce6d7-8d21-46a3-d68c-590d12715319"
      },
      "execution_count": null,
      "outputs": [
        {
          "output_type": "display_data",
          "data": {
            "text/plain": [
              "Map:   0%|          | 0/874 [00:00<?, ? examples/s]"
            ],
            "application/vnd.jupyter.widget-view+json": {
              "version_major": 2,
              "version_minor": 0,
              "model_id": "640162d04a9c4afdab3e37dceb6cde61"
            }
          },
          "metadata": {}
        },
        {
          "output_type": "display_data",
          "data": {
            "text/plain": [
              "Map:   0%|          | 0/100 [00:00<?, ? examples/s]"
            ],
            "application/vnd.jupyter.widget-view+json": {
              "version_major": 2,
              "version_minor": 0,
              "model_id": "fe2f4640d56a425c8943744a51a3bb5d"
            }
          },
          "metadata": {}
        },
        {
          "output_type": "execute_result",
          "data": {
            "text/plain": [
              "DatasetDict({\n",
              "    train: Dataset({\n",
              "        features: ['input_ids'],\n",
              "        num_rows: 27762\n",
              "    })\n",
              "    valid: Dataset({\n",
              "        features: ['input_ids'],\n",
              "        num_rows: 3256\n",
              "    })\n",
              "})"
            ]
          },
          "metadata": {},
          "execution_count": 12
        }
      ]
    },
    {
      "cell_type": "code",
      "source": [
        "from transformers import AutoTokenizer, GPT2LMHeadModel, AutoConfig\n",
        "\n",
        "config = AutoConfig.from_pretrained(\n",
        "    \"gpt2\",\n",
        "    vocab_size=len(tokenizer),\n",
        "    n_ctx=context_length,\n",
        "    bos_token_id=tokenizer.bos_token_id,\n",
        "    eos_token_id=tokenizer.eos_token_id,\n",
        ")\n",
        "\n",
        "config"
      ],
      "metadata": {
        "colab": {
          "base_uri": "https://localhost:8080/"
        },
        "id": "Sgz9pjHuro4X",
        "outputId": "29054bc5-44cd-49ea-fa05-dbf23922bd0a"
      },
      "execution_count": null,
      "outputs": [
        {
          "output_type": "execute_result",
          "data": {
            "text/plain": [
              "GPT2Config {\n",
              "  \"activation_function\": \"gelu_new\",\n",
              "  \"architectures\": [\n",
              "    \"GPT2LMHeadModel\"\n",
              "  ],\n",
              "  \"attn_pdrop\": 0.1,\n",
              "  \"bos_token_id\": 0,\n",
              "  \"embd_pdrop\": 0.1,\n",
              "  \"eos_token_id\": 0,\n",
              "  \"initializer_range\": 0.02,\n",
              "  \"layer_norm_epsilon\": 1e-05,\n",
              "  \"model_type\": \"gpt2\",\n",
              "  \"n_ctx\": 256,\n",
              "  \"n_embd\": 768,\n",
              "  \"n_head\": 12,\n",
              "  \"n_inner\": null,\n",
              "  \"n_layer\": 12,\n",
              "  \"n_positions\": 1024,\n",
              "  \"reorder_and_upcast_attn\": false,\n",
              "  \"resid_pdrop\": 0.1,\n",
              "  \"scale_attn_by_inverse_layer_idx\": false,\n",
              "  \"scale_attn_weights\": true,\n",
              "  \"summary_activation\": null,\n",
              "  \"summary_first_dropout\": 0.1,\n",
              "  \"summary_proj_to_labels\": true,\n",
              "  \"summary_type\": \"cls_index\",\n",
              "  \"summary_use_proj\": true,\n",
              "  \"task_specific_params\": {\n",
              "    \"text-generation\": {\n",
              "      \"do_sample\": true,\n",
              "      \"max_length\": 50\n",
              "    }\n",
              "  },\n",
              "  \"transformers_version\": \"4.55.0\",\n",
              "  \"use_cache\": true,\n",
              "  \"vocab_size\": 587\n",
              "}"
            ]
          },
          "metadata": {},
          "execution_count": 13
        }
      ]
    },
    {
      "cell_type": "code",
      "source": [
        "model = GPT2LMHeadModel(config)\n",
        "model_size = sum(t.numel() for t in model.parameters())\n",
        "print(f\"GPT-2 size: {model_size/1000**2:.1f}M parameters\")"
      ],
      "metadata": {
        "colab": {
          "base_uri": "https://localhost:8080/"
        },
        "id": "mJeZYQ-nroyp",
        "outputId": "70004045-8951-4ce7-db8d-86679e66318c"
      },
      "execution_count": null,
      "outputs": [
        {
          "output_type": "stream",
          "name": "stdout",
          "text": [
            "GPT-2 size: 86.3M parameters\n"
          ]
        }
      ]
    },
    {
      "cell_type": "code",
      "source": [
        "from transformers import DataCollatorForLanguageModeling\n",
        "\n",
        "tokenizer.pad_token = tokenizer.eos_token\n",
        "data_collator = DataCollatorForLanguageModeling(tokenizer, mlm=False)\n",
        "\n",
        "data_collator"
      ],
      "metadata": {
        "colab": {
          "base_uri": "https://localhost:8080/"
        },
        "id": "klRepy18rooo",
        "outputId": "2a0191c6-3401-4e92-999b-2d228c428ce5"
      },
      "execution_count": null,
      "outputs": [
        {
          "output_type": "execute_result",
          "data": {
            "text/plain": [
              "DataCollatorForLanguageModeling(tokenizer=GPT2TokenizerFast(name_or_path='gpt2', vocab_size=587, model_max_length=1024, is_fast=True, padding_side='right', truncation_side='right', special_tokens={'bos_token': '<|endoftext|>', 'eos_token': '<|endoftext|>', 'unk_token': '<|endoftext|>', 'pad_token': '<|endoftext|>'}, clean_up_tokenization_spaces=False, added_tokens_decoder={\n",
              "\t0: AddedToken(\"<|endoftext|>\", rstrip=False, lstrip=False, single_word=False, normalized=True, special=True),\n",
              "}\n",
              "), mlm=False, mlm_probability=0.15, mask_replace_prob=0.8, random_replace_prob=0.1, pad_to_multiple_of=None, tf_experimental_compile=False, return_tensors='pt', seed=None)"
            ]
          },
          "metadata": {},
          "execution_count": 15
        }
      ]
    },
    {
      "cell_type": "code",
      "source": [
        "from huggingface_hub import notebook_login\n",
        "\n",
        "notebook_login()"
      ],
      "metadata": {
        "colab": {
          "base_uri": "https://localhost:8080/",
          "height": 17,
          "referenced_widgets": [
            "b4b5c9163f6e454eb5303f21d5139748",
            "c70e4ecd80ad4914926ffda45b741a3a",
            "7438e99267504e25b48cf1bc0e10f7a4",
            "be60ec6e2fb04414b959c1415553e956",
            "7f262cb75b4f4dd39ade6115c5ea9476",
            "64ac1491ef8f4098ac6702e062a30eb3",
            "da992faca6d743e3a6c5b2f54d9f30aa",
            "87216a832e4348a99238ce48b2530617",
            "5abe0f6b5a464a7db88bf2616678030c",
            "275c5b3e41c4469f8579d073658f9268",
            "a50c31684520456c8d5a204d39403e04",
            "67b4c7c6c099475ea994732f3176bbfb",
            "e3726a3ca0d64a04a4a4fe7caec2c478",
            "4f78d36d52d44f65bb8b6855457a918a",
            "d43584f4d7e44cbfa8dd9fab11324031",
            "187b4c68784148a6b730dbe9804d28ff",
            "d0a3a5db58844be9900aa100cb233119",
            "55cb79fad98d4184aaf1f4d04313c1d4",
            "eeffe30b01ca4e4d9da2da8375dd67bf",
            "df25ae197f97406a8ed344208f736cc6"
          ]
        },
        "id": "61eRFoi8BvFV",
        "outputId": "643afd27-9e48-4891-b5a2-d92e9ac8aa0b"
      },
      "execution_count": null,
      "outputs": [
        {
          "output_type": "display_data",
          "data": {
            "text/plain": [
              "VBox(children=(HTML(value='<center> <img\\nsrc=https://huggingface.co/front/assets/huggingface_logo-noborder.sv…"
            ],
            "application/vnd.jupyter.widget-view+json": {
              "version_major": 2,
              "version_minor": 0,
              "model_id": "b4b5c9163f6e454eb5303f21d5139748"
            }
          },
          "metadata": {}
        }
      ]
    },
    {
      "cell_type": "code",
      "source": [
        "from transformers import Trainer, TrainingArguments\n",
        "\n",
        "args = TrainingArguments(\n",
        "    output_dir=\"music-generation\",\n",
        "    per_device_train_batch_size=16,\n",
        "    per_device_eval_batch_size=16,\n",
        "    eval_strategy=\"steps\",\n",
        "    eval_steps=100,\n",
        "    logging_steps=100,\n",
        "    gradient_accumulation_steps=16,\n",
        "    num_train_epochs=20,\n",
        "    weight_decay=0.05,\n",
        "    warmup_steps=100,\n",
        "    lr_scheduler_type=\"cosine\",\n",
        "    learning_rate=1e-4,\n",
        "    save_strategy=\"steps\",\n",
        "    save_steps=100,\n",
        "    fp16=True,\n",
        "    push_to_hub=True,\n",
        ")\n",
        "\n",
        "trainer = Trainer(\n",
        "    model=model,\n",
        "    tokenizer=tokenizer,\n",
        "    args=args,\n",
        "    data_collator=data_collator,\n",
        "    train_dataset=tokenized_datasets[\"train\"],\n",
        "    eval_dataset=tokenized_datasets[\"valid\"],\n",
        ")\n",
        "\n",
        "trainer"
      ],
      "metadata": {
        "colab": {
          "base_uri": "https://localhost:8080/"
        },
        "id": "2Smiqj5c6UmG",
        "outputId": "a1850ae0-4300-43a7-ec1c-25f606591571"
      },
      "execution_count": null,
      "outputs": [
        {
          "output_type": "stream",
          "name": "stderr",
          "text": [
            "/tmp/ipython-input-2544157073.py:22: FutureWarning: `tokenizer` is deprecated and will be removed in version 5.0.0 for `Trainer.__init__`. Use `processing_class` instead.\n",
            "  trainer = Trainer(\n"
          ]
        },
        {
          "output_type": "execute_result",
          "data": {
            "text/plain": [
              "<transformers.trainer.Trainer at 0x78ebc0541650>"
            ]
          },
          "metadata": {},
          "execution_count": 19
        }
      ]
    },
    {
      "cell_type": "code",
      "source": [
        "trainer.train()\n",
        "\n",
        "trainer.save_model(\"./trained_model\")\n",
        "\n",
        "trainer.push_to_hub()"
      ],
      "metadata": {
        "colab": {
          "base_uri": "https://localhost:8080/",
          "height": 897
        },
        "id": "iVMuiV5t7Rac",
        "outputId": "af79caa5-6d47-413c-9e6d-2c1d25e1de21"
      },
      "execution_count": null,
      "outputs": [
        {
          "output_type": "display_data",
          "data": {
            "text/plain": [
              "<IPython.core.display.HTML object>"
            ],
            "text/html": [
              "\n",
              "    <div>\n",
              "      \n",
              "      <progress value='2180' max='2180' style='width:300px; height:20px; vertical-align: middle;'></progress>\n",
              "      [2180/2180 2:59:16, Epoch 20/20]\n",
              "    </div>\n",
              "    <table border=\"1\" class=\"dataframe\">\n",
              "  <thead>\n",
              " <tr style=\"text-align: left;\">\n",
              "      <th>Step</th>\n",
              "      <th>Training Loss</th>\n",
              "      <th>Validation Loss</th>\n",
              "    </tr>\n",
              "  </thead>\n",
              "  <tbody>\n",
              "    <tr>\n",
              "      <td>100</td>\n",
              "      <td>3.723800</td>\n",
              "      <td>2.846041</td>\n",
              "    </tr>\n",
              "    <tr>\n",
              "      <td>200</td>\n",
              "      <td>2.464300</td>\n",
              "      <td>1.882864</td>\n",
              "    </tr>\n",
              "    <tr>\n",
              "      <td>300</td>\n",
              "      <td>1.833900</td>\n",
              "      <td>1.423398</td>\n",
              "    </tr>\n",
              "    <tr>\n",
              "      <td>400</td>\n",
              "      <td>1.501300</td>\n",
              "      <td>1.220333</td>\n",
              "    </tr>\n",
              "    <tr>\n",
              "      <td>500</td>\n",
              "      <td>1.312500</td>\n",
              "      <td>1.096608</td>\n",
              "    </tr>\n",
              "    <tr>\n",
              "      <td>600</td>\n",
              "      <td>1.189900</td>\n",
              "      <td>1.002815</td>\n",
              "    </tr>\n",
              "    <tr>\n",
              "      <td>700</td>\n",
              "      <td>1.098200</td>\n",
              "      <td>0.935333</td>\n",
              "    </tr>\n",
              "    <tr>\n",
              "      <td>800</td>\n",
              "      <td>1.030200</td>\n",
              "      <td>0.877875</td>\n",
              "    </tr>\n",
              "    <tr>\n",
              "      <td>900</td>\n",
              "      <td>0.976600</td>\n",
              "      <td>0.827585</td>\n",
              "    </tr>\n",
              "    <tr>\n",
              "      <td>1000</td>\n",
              "      <td>0.924300</td>\n",
              "      <td>0.775674</td>\n",
              "    </tr>\n",
              "    <tr>\n",
              "      <td>1100</td>\n",
              "      <td>0.882500</td>\n",
              "      <td>0.734509</td>\n",
              "    </tr>\n",
              "    <tr>\n",
              "      <td>1200</td>\n",
              "      <td>0.845000</td>\n",
              "      <td>0.699969</td>\n",
              "    </tr>\n",
              "    <tr>\n",
              "      <td>1300</td>\n",
              "      <td>0.808300</td>\n",
              "      <td>0.662390</td>\n",
              "    </tr>\n",
              "    <tr>\n",
              "      <td>1400</td>\n",
              "      <td>0.778400</td>\n",
              "      <td>0.632755</td>\n",
              "    </tr>\n",
              "    <tr>\n",
              "      <td>1500</td>\n",
              "      <td>0.750200</td>\n",
              "      <td>0.605184</td>\n",
              "    </tr>\n",
              "    <tr>\n",
              "      <td>1600</td>\n",
              "      <td>0.728100</td>\n",
              "      <td>0.581615</td>\n",
              "    </tr>\n",
              "    <tr>\n",
              "      <td>1700</td>\n",
              "      <td>0.707200</td>\n",
              "      <td>0.562223</td>\n",
              "    </tr>\n",
              "    <tr>\n",
              "      <td>1800</td>\n",
              "      <td>0.690300</td>\n",
              "      <td>0.548632</td>\n",
              "    </tr>\n",
              "    <tr>\n",
              "      <td>1900</td>\n",
              "      <td>0.679600</td>\n",
              "      <td>0.538575</td>\n",
              "    </tr>\n",
              "    <tr>\n",
              "      <td>2000</td>\n",
              "      <td>0.670500</td>\n",
              "      <td>0.533479</td>\n",
              "    </tr>\n",
              "    <tr>\n",
              "      <td>2100</td>\n",
              "      <td>0.664600</td>\n",
              "      <td>0.531161</td>\n",
              "    </tr>\n",
              "  </tbody>\n",
              "</table><p>"
            ]
          },
          "metadata": {}
        },
        {
          "output_type": "stream",
          "name": "stderr",
          "text": [
            "No files have been modified since last commit. Skipping to prevent empty commit.\n",
            "WARNING:huggingface_hub.hf_api:No files have been modified since last commit. Skipping to prevent empty commit.\n"
          ]
        },
        {
          "output_type": "execute_result",
          "data": {
            "text/plain": [
              "CommitInfo(commit_url='https://huggingface.co/metoonhathung/music-generation/commit/e0a6781132a8351ea9cca52b56953d5c199c6a40', commit_message='End of training', commit_description='', oid='e0a6781132a8351ea9cca52b56953d5c199c6a40', pr_url=None, repo_url=RepoUrl('https://huggingface.co/metoonhathung/music-generation', endpoint='https://huggingface.co', repo_type='model', repo_id='metoonhathung/music-generation'), pr_revision=None, pr_num=None)"
            ],
            "application/vnd.google.colaboratory.intrinsic+json": {
              "type": "string"
            }
          },
          "metadata": {},
          "execution_count": 20
        }
      ]
    },
    {
      "cell_type": "code",
      "source": [
        "losses = [x[\"loss\"] for x in trainer.state.log_history if \"loss\" in x]\n",
        "\n",
        "plt.plot(losses)\n",
        "plt.show()"
      ],
      "metadata": {
        "colab": {
          "base_uri": "https://localhost:8080/",
          "height": 430
        },
        "id": "PnRjPfTLy_gH",
        "outputId": "051d4daf-8c12-495b-d402-e03b3fbe493f"
      },
      "execution_count": null,
      "outputs": [
        {
          "output_type": "display_data",
          "data": {
            "text/plain": [
              "<Figure size 640x480 with 1 Axes>"
            ],
            "image/png": "[encoded data removed]"
          },
          "metadata": {
            "image/png": {
              "width": 547,
              "height": 413
            }
          }
        }
      ]
    },
    {
      "cell_type": "code",
      "source": [
        "import torch\n",
        "from transformers import pipeline\n",
        "\n",
        "device = torch.device(\"cuda\") if torch.cuda.is_available() else torch.device(\"cpu\")\n",
        "pipe = pipeline(\"text-generation\", model=\"./trained_model\")\n",
        "# pipe = pipeline(\"text-generation\", model=\"metoonhathung/music-generation\", device=device)"
      ],
      "metadata": {
        "id": "EsXxjtRh7RV4",
        "colab": {
          "base_uri": "https://localhost:8080/"
        },
        "outputId": "77ccb8bc-36d0-44da-93c2-5ab1a6aac483"
      },
      "execution_count": null,
      "outputs": [
        {
          "output_type": "stream",
          "name": "stderr",
          "text": [
            "Device set to use cuda:0\n"
          ]
        }
      ]
    },
    {
      "cell_type": "code",
      "source": [
        "final_txt = \"\"\n",
        "tmp_txt = \"\"\n",
        "\n",
        "while len(final_txt.split(\" \")) < 2048:\n",
        "  res_txt = pipe(tmp_txt, num_return_sequences=1, max_new_tokens=256)[0][\"generated_text\"]\n",
        "  final_txt = final_txt.replace(tmp_txt, res_txt)\n",
        "  res_lst = [int(x) for x in res_txt.split(\" \")[1:]]\n",
        "  tmp_txt = \" \" + \" \".join([str(x) for x in res_lst[-32:]])\n",
        "  print(\"len =\", len(final_txt.split(\" \")))\n",
        "\n",
        "final_lst = [int(x) for x in final_txt.split(\" \")[1:]]\n",
        "\n",
        "final_txt"
      ],
      "metadata": {
        "id": "mIOWiE_c7RTr",
        "colab": {
          "base_uri": "https://localhost:8080/",
          "height": 395
        },
        "outputId": "a20019f6-e4a9-4bd1-a296-2028aa9f98b3"
      },
      "execution_count": null,
      "outputs": [
        {
          "output_type": "stream",
          "name": "stdout",
          "text": [
            "len = 257\n"
          ]
        },
        {
          "output_type": "stream",
          "name": "stderr",
          "text": [
            "You seem to be using the pipelines sequentially on GPU. In order to maximize efficiency please use a dataset\n"
          ]
        },
        {
          "output_type": "stream",
          "name": "stdout",
          "text": [
            "len = 513\n",
            "len = 769\n",
            "len = 1025\n",
            "len = 1281\n",
            "len = 1537\n",
            "len = 1793\n",
            "len = 2049\n"
          ]
        },
        {
          "output_type": "execute_result",
          "data": {
            "text/plain": [
              "' 378 84 378 76 378 72 272 212 204 200 378 86 378 74 378 77 272 214 202 205 378 84 378 76 378 72 272 212 204 200 272 378 77 378 81 378 65 272 205 209 193 272 378 76 378 84 378 72 378 67 272 204 212 200 195 272 378 83 378 77 378 62 272 211 205 190 272 378 86 378 77 378 67 378 71 272 214 205 195 199 272 378 83 378 77 378 67 378 71 272 211 205 195 199 378 86 272 214 378 83 378 77 378 67 378 71 272 211 205 195 199 378 86 272 214 378 83 378 77 378 67 378 71 272 211 205 195 199 272 378 79 378 76 378 60 378 72 272 207 204 188 200 272 378 81 378 93 378 72 378 64 378 67 272 209 221 200 192 195 272 382 91 382 83 382 95 382 55 382 67 272 219 211 223 183 195 272 382 84 382 93 382 96 382 67 382 72 382 64 272 212 221 224 195 200 192 272 382 88 382 100 382 60 382 72 272 216 228 188 200 382 93 382 88 382 84 382 64 382 52 272 221 216 212 192 180 272 382 93 382 81 382 72 382 67 382 64 272 221 209 200 195 192 382 84 272 212 382 88 382 52 382 64 272 216 180 192 382 93 382 81 382 88 272 221 209 216 382 51 382 63 272 179 191 382 76 382 88 382 80 272 204 216 208 382 69 382 64 272 197 192 382 81 272 209 382 83 382 52 382 64 272 211 180 192 382 81 272 209 382 85 382 67 382 69 382 64 272 213 195 197 192 382 93 272 382 45 382 57 272 221 173 185 272 382 81 382 69 382 64 382 73 272 209 197 192 201 382 91 272 219 382 93 382 49 382 61 272 221 177 189 382 89 272 217 382 93 382 67 382 64 382 73 272 221 195 192 201 382 88 272 216 382 89 382 50 382 62 272 217 178 190 382 88 272 216 382 89 382 69 382 65 382 62 272 217 197 193 190 382 86 272 214 382 88 382 45 382 57 272 216 173 185 382 85 272 213 382 86 382 65 382 69 382 62 272 214 193 197 190 382 89 272 217 382 93 382 50 382 62 272 221 178 190 382 89 272 217 382 93 382 69 382 65 382 62 272 221 197 193 190 382 89 272 217 382 93 382 57 382 45 272 221 185 272 221 185 382 86 272 221 185 382 93 272 221 185 382 89 272 221 185 382 86 272 221 382 89 261 221 382 81 382 77 382 74 272 217 209 382 88 382 81 382 77 266 201 209 205 261 216 382 81 382 77 382 86 382 74 277 209 205 214 202 266 382 77 382 69 277 205 197 266 382 81 382 77 382 74 382 69 266 209 205 202 197 261 382 77 382 81 382 69 382 74 382 65 266 205 209 197 202 193 261 382 69 382 77 382 81 382 74 382 62 266 197 205 209 202 190 261 382 69 382 77 382 74 382 81 382 65 266 197 205 202 209 193 261 382 81 382 69 382 74 382 77 382 62 277 209 197 202 205 190 266 382 77 382 81 382 69 382 74 382 62 266 205 209 197 202 190 261 382 74 382 77 382 81 382 69 382 62 266 202 205 209 197 190 261 382 77 382 81 382 69 382 74 382 62 266 205 209 197 202 190 261 382 77 382 69 382 81 382 74 382 62 277 205 197 209 202 190 266 382 69 382 77 382 81 382 74 382 62 277 197 205 209 202 190 266 382 80 382 68 382 74 382 77 382 62 277 208 196 202 205 190 266 382 81 382 69 382 69 382 74 382 81 382 69 382 81 382 77 382 77 382 81 382 77 382 74 382 81 382 59 266 197 202 209 209 197 202 209 205 260 382 69 382 74 382 81 382 77 382 82 382 70 260 197 202 209 205 210 198 260 190 187 193 205 210 198 260 382 74 382 62 382 69 382 72 382 66 382 78 382 74 382 50 382 38 266 202 190 197 200 194 206 202 178 166 260 382 74 382 69 382 66 382 62 382 72 382 74 382 57 382 50 382 54 266 202 197 194 190 200 202 185 178 182 260 382 62 382 70 382 66 382 74 382 72 382 50 382 38 266 190 198 194 202 200 178 166 260 382 62 382 66 382 69 382 72 382 74 382 60 382 54 382 50 266 190 194 197 200 202 188 182 178 260 382 62 382 74 382 69 382 66 382 72 382 60 382 54 382 50 266 190 202 197 194 200 188 182 178 260 382 74 382 62 382 50 382 38 266 202 190 178 166 260 382 66 382 69 382 54 382 42 266 194 197 182 170 260 382 62 382 66 382 69 382 74 382 57 382 45 266 190 194 197 202 185 173 260 382 62 382 74 382 68 382 65 382 58 382 46 382 58 382 58 382 58 382 46 382 56 277 190 202 196 193 202 196 193 190 202 196 186 174 186 174 186 256 382 69 382 65 382 58 382 62 382 46 382 34 277 197 193 190 174 162 266 382 65 382 62 382 53 382 58 382 56 266 193 190 260 382 66 382 62 382 69 260 181 186 184 266 382 50 382 38 266 194 190 197 260 382 68 382 65 382 62 260 178 166 260 196 193 190 260 382 65 382 62 382 67 382 56 382 58 382 50 277 193 190 195 184 186 178 266 382 62 382 66 382 57 382 45 266 190 194 260 382 64 382 61 260 185 173 260 192 189 260 382 66 382 62 382 50 382 60 382 54 266 194 190 260 382 66 382 62 260 178 188 182 266 382 50 382 38 266 194 190 260 382 62 382 66 260 178 166 260 190 194 260 382 66 382 62 382 54 382 50 382 60 266 194 190 260 382 66 382 62 260 182 178 188 260 194 190 260 382 67 382 62 382 58 382 43 382 55 298 195 190 186 171 183 276 382 67 382 62 382 58 382 55 382 43 266 195 190 186 183 171 260 382 70 382 62 382 67 382 58 382 55 382 50 266 198 190 195 190 198 190 195 190 198 190 195 190 195 190 195 186 183 178 260 382 67 382 67 382 67 382 70 382 70 382 70 382 62 382 43 382 55 297 195 198 198 198 198 190 171 183 382 70 382 62 382 67 382 70 382 74 382 55 382 43 287 198 190 195 198 202 183 171 271 382 70 382 73 382 64 382 67 382 54 382 42 287 198 201 192 195 182 170 271 382 72 382 69 382 63 382 74 382 53 382 41 287 181 169 271 382 54 382 42 271 182 170 271 200 197 191 202 382 55 382 43 271 183 171 382 56 382 44 271 184 172 382 57 382 45 271 185 173 382 58 382 46 271 186 174 382 59 382 47 271 187 175 382 60 382 48 271 188 176 271 382 74 382 46 382 58 271 202 174 186 382 72 382 45 382 57 271 200 173 185 382 74 271 202 382 72 382 57 382 53 382 63 271 200 185 181 191 271 382 70 382 58 382 46 271 198 186 174 382 69 382 45 382 57 271 197 173 185 382 67 382 55 382 43 271 195 183 171 382 65 382 41 382 53 271 169 181 271 382 50 382 38 271 193 178 166 382 64 382 36 382 48 271 192 164 176 271 382 65 382 65 382 62 382 49 382 38 382 38 382 50 382 38 382 50 382 38 271 193 166 176 382 38 382 38 382 50 382 50 260 166 166 166 178 260 166 178 260 382 37 382 49 382 37 382 37 260 165 153 165 177 165 260 382 52 382 58 382 50 382 38 382 37 382 38 382 43 271 180 186 178 166 166 171 166 260 382 49 382 37 382 37 271 177 165 153 165 260 382 38 382 50 382 38 271 166 178 166 382 39 382 51 382 39 271 167 179 382 40 382 52 382 40 271 168 180 168 180 382 53 382 41 382 53 271 181 169 181 382 54 382 42 382 30 271 182 170 158 382 55 382 43 382 31 271 183 171 159 382 56 382 44 271 184 172 382 57 382 45 271 185 173 382 58 382 46 271 186 174 382 59 382 47 271 187 175 382 60 382 48 271 188 176 271 382 60 382 48 271 188 176 382 62 382 50 271 190 178 271 382 60 382 52 271 188 180 382 59 382 47 271 187 175 271 382 59 382 47 271 187 175 382 57 382 45 271 185 173 271 382 56 382 44 271 184 172 382 59 382 40 382 52 271 187 168 180 382 56 382 40 382 44 271 184 168 172 168 172 382 42 382 52 271 184 168 172 382 47 382 28 271 184 382 42 382 42 382 42 271 168 172 168 172 382 35 382 47 271 163 175 382 40 382 28 271 168 156 382 32 382 44 271 160 172 382 45 382 33 271 173 161 382 28 382 40 271 156 168 382 28 382 40 271 156 168 382 28 382 21 271 156 149 382 33 382 45 271 161 173 382 28 382 33 271 156 161 271 382 28 271 156 382 28 382 40 271 156 168 271 382 28 382 40 271 156 168 271 382 28 382 40 271 156 168 382 28 271 156 382 28 382 40 271 156 168 382 28 271 156 382 28 382 40 271 156 168 382 28 271 156 382 28 271 156 271 382 28 382 40 271 156 168 271 382 52 382 33 382 45 271 180 161 173 271 382 28 382 40 271 156 168 382 52 382 28 271 180 156 271 382 40 382 28 271 168 156 382 33 382 45 271 161 173 271 382 28 271 156 382 40 382 28 271 156 156 382 28 271 156 382 40 382 28 271 168 156 382 28 271 156 382 28 271 156 382 40 382 28 271 156 271 156 382 28 271 156 382 28 271 156 382 40 382 28 271 156 382 28 271 156 156 156 271 156 271 156 382 40 382 28 271 156 271 156 271 156 382 28 271 156 382 28 271 156 382 28 382 28 271 156 382'"
            ],
            "application/vnd.google.colaboratory.intrinsic+json": {
              "type": "string"
            }
          },
          "metadata": {},
          "execution_count": 26
        }
      ]
    },
    {
      "cell_type": "code",
      "source": [
        "def download_processor(file_name):\n",
        "  if not os.path.exists(file_name):\n",
        "    DATA_URL = 'https://raw.githubusercontent.com/jason9693/midi-neural-processor/master/processor.py'\n",
        "    r = requests.get(DATA_URL)\n",
        "\n",
        "    with open(file_name, 'w') as f:\n",
        "      f.write(r.text)\n",
        "\n",
        "download_processor('processor.py')"
      ],
      "metadata": {
        "id": "KEaQYFjT0pij"
      },
      "execution_count": null,
      "outputs": []
    },
    {
      "cell_type": "code",
      "source": [
        "from processor import encode_midi, decode_midi\n",
        "\n",
        "decode_midi(final_lst, 'output.midi')"
      ],
      "metadata": {
        "colab": {
          "base_uri": "https://localhost:8080/"
        },
        "id": "UUzxf5ltUGjc",
        "outputId": "d839386a-93e8-4a3a-d8b2-c46d17934da8"
      },
      "execution_count": null,
      "outputs": [
        {
          "output_type": "stream",
          "name": "stdout",
          "text": [
            "info removed pitch: 25\n",
            "info removed pitch: 25\n"
          ]
        },
        {
          "output_type": "execute_result",
          "data": {
            "text/plain": [
              "<pretty_midi.pretty_midi.PrettyMIDI at 0x78eb500b6190>"
            ]
          },
          "metadata": {},
          "execution_count": 29
        }
      ]
    },
    {
      "cell_type": "code",
      "source": [],
      "metadata": {
        "id": "Hs32a6_uUGWw"
      },
      "execution_count": null,
      "outputs": []
    }
  ],
  "metadata": {
    "colab": {
      "provenance": [],
      "gpuType": "T4"
    },
    "kernelspec": {
      "display_name": "Python 3",
      "name": "python3"
    },
    "language_info": {
      "codemirror_mode": {
        "name": "ipython",
        "version": 3
      },
      "file_extension": ".py",
      "mimetype": "text/x-python",
      "name": "python",
      "nbconvert_exporter": "python",
      "pygments_lexer": "ipython3",
      "version": "3.9.5"
    },
    "accelerator": "GPU"
  },
  "nbformat": 4,
  "nbformat_minor": 0
}